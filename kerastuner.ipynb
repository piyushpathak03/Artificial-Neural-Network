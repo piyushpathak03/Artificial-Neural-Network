{
 "cells": [
  {
   "cell_type": "code",
   "execution_count": 1,
   "metadata": {},
   "outputs": [],
   "source": [
    "import pandas as pd\n",
    "# Importing the dataset\n",
    "dataset = pd.read_csv('Churn_Modelling.csv')\n",
    "X = dataset.iloc[:, 3:13]\n",
    "y = dataset.iloc[:, 13]\n",
    "#Create dummy variables\n",
    "geography=pd.get_dummies(X[\"Geography\"],drop_first=True)\n",
    "gender=pd.get_dummies(X['Gender'],drop_first=True)\n",
    "## Concatenate the Data Frames\n",
    "\n",
    "X=pd.concat([X,geography,gender],axis=1)\n",
    "\n",
    "## Drop Unnecessary columns\n",
    "X=X.drop(['Geography','Gender'],axis=1)\n",
    "# Splitting the dataset into the Training set and Test set\n",
    "from sklearn.model_selection import train_test_split\n",
    "X_train, X_test, y_train, y_test = train_test_split(X, y, test_size = 0.2, random_state = 0)\n"
   ]
  },
  {
   "cell_type": "code",
   "execution_count": 2,
   "metadata": {},
   "outputs": [
    {
     "data": {
      "text/plain": [
       "(8000, 11)"
      ]
     },
     "execution_count": 2,
     "metadata": {},
     "output_type": "execute_result"
    }
   ],
   "source": [
    "X_train.shape"
   ]
  },
  {
   "cell_type": "code",
   "execution_count": 3,
   "metadata": {},
   "outputs": [],
   "source": [
    "def build_model(hp):\n",
    "    model = keras.Sequential()\n",
    "    for i in range(hp.Int('num_layers', 2, 20)):\n",
    "        model.add(layers.Dense(units=hp.Int('units_' + str(i),\n",
    "                                            min_value=32,\n",
    "                                            max_value=512,\n",
    "                                            step=32),\n",
    "                               activation='relu'))\n",
    "    model.add(layers.Dense(1, activation='sigmoid'))\n",
    "    model.compile(\n",
    "        optimizer=keras.optimizers.Adam(\n",
    "            hp.Choice('learning_rate', [1e-2, 1e-3, 1e-4])),\n",
    "        loss='binary_crossentropy',\n",
    "        metrics=['accuracy'])\n",
    "    return model"
   ]
  },
  {
   "cell_type": "code",
   "execution_count": 4,
   "metadata": {},
   "outputs": [
    {
     "name": "stdout",
     "output_type": "stream",
     "text": [
      "INFO:tensorflow:Reloading Oracle from existing project project1\\Churn\\oracle.json\n"
     ]
    }
   ],
   "source": [
    "from tensorflow import keras\n",
    "from tensorflow.keras import layers\n",
    "from kerastuner.tuners import RandomSearch\n",
    "tuner = RandomSearch(\n",
    "    build_model,\n",
    "    objective='val_accuracy',\n",
    "    max_trials=5,\n",
    "    executions_per_trial=3,\n",
    "    directory='project1',\n",
    "    project_name='Churn')"
   ]
  },
  {
   "cell_type": "code",
   "execution_count": 5,
   "metadata": {},
   "outputs": [
    {
     "data": {
      "text/html": [
       "<span style=\"color:#4527A0\"><h1 style=\"font-size:18px\">Search space summary</h1></span>"
      ],
      "text/plain": [
       "<IPython.core.display.HTML object>"
      ]
     },
     "metadata": {},
     "output_type": "display_data"
    },
    {
     "data": {
      "text/html": [
       "<span style=\"color:cyan\"> |-Default search space size: 4</span>"
      ],
      "text/plain": [
       "<IPython.core.display.HTML object>"
      ]
     },
     "metadata": {},
     "output_type": "display_data"
    },
    {
     "data": {
      "text/html": [
       "<span style=\"color:#7E57C2\"><h2 style=\"font-size:16px\">num_layers (Int)</h2></span>"
      ],
      "text/plain": [
       "<IPython.core.display.HTML object>"
      ]
     },
     "metadata": {},
     "output_type": "display_data"
    },
    {
     "data": {
      "text/html": [
       "<span style=\"color:cyan\"> |-default: None</span>"
      ],
      "text/plain": [
       "<IPython.core.display.HTML object>"
      ]
     },
     "metadata": {},
     "output_type": "display_data"
    },
    {
     "data": {
      "text/html": [
       "<span style=\"color:blue\"> |-max_value: 20</span>"
      ],
      "text/plain": [
       "<IPython.core.display.HTML object>"
      ]
     },
     "metadata": {},
     "output_type": "display_data"
    },
    {
     "data": {
      "text/html": [
       "<span style=\"color:cyan\"> |-min_value: 2</span>"
      ],
      "text/plain": [
       "<IPython.core.display.HTML object>"
      ]
     },
     "metadata": {},
     "output_type": "display_data"
    },
    {
     "data": {
      "text/html": [
       "<span style=\"color:blue\"> |-sampling: None</span>"
      ],
      "text/plain": [
       "<IPython.core.display.HTML object>"
      ]
     },
     "metadata": {},
     "output_type": "display_data"
    },
    {
     "data": {
      "text/html": [
       "<span style=\"color:cyan\"> |-step: 1</span>"
      ],
      "text/plain": [
       "<IPython.core.display.HTML object>"
      ]
     },
     "metadata": {},
     "output_type": "display_data"
    },
    {
     "data": {
      "text/html": [
       "<span style=\"color:#7E57C2\"><h2 style=\"font-size:16px\">units_0 (Int)</h2></span>"
      ],
      "text/plain": [
       "<IPython.core.display.HTML object>"
      ]
     },
     "metadata": {},
     "output_type": "display_data"
    },
    {
     "data": {
      "text/html": [
       "<span style=\"color:cyan\"> |-default: None</span>"
      ],
      "text/plain": [
       "<IPython.core.display.HTML object>"
      ]
     },
     "metadata": {},
     "output_type": "display_data"
    },
    {
     "data": {
      "text/html": [
       "<span style=\"color:blue\"> |-max_value: 512</span>"
      ],
      "text/plain": [
       "<IPython.core.display.HTML object>"
      ]
     },
     "metadata": {},
     "output_type": "display_data"
    },
    {
     "data": {
      "text/html": [
       "<span style=\"color:cyan\"> |-min_value: 32</span>"
      ],
      "text/plain": [
       "<IPython.core.display.HTML object>"
      ]
     },
     "metadata": {},
     "output_type": "display_data"
    },
    {
     "data": {
      "text/html": [
       "<span style=\"color:blue\"> |-sampling: None</span>"
      ],
      "text/plain": [
       "<IPython.core.display.HTML object>"
      ]
     },
     "metadata": {},
     "output_type": "display_data"
    },
    {
     "data": {
      "text/html": [
       "<span style=\"color:cyan\"> |-step: 32</span>"
      ],
      "text/plain": [
       "<IPython.core.display.HTML object>"
      ]
     },
     "metadata": {},
     "output_type": "display_data"
    },
    {
     "data": {
      "text/html": [
       "<span style=\"color:#7E57C2\"><h2 style=\"font-size:16px\">units_1 (Int)</h2></span>"
      ],
      "text/plain": [
       "<IPython.core.display.HTML object>"
      ]
     },
     "metadata": {},
     "output_type": "display_data"
    },
    {
     "data": {
      "text/html": [
       "<span style=\"color:cyan\"> |-default: None</span>"
      ],
      "text/plain": [
       "<IPython.core.display.HTML object>"
      ]
     },
     "metadata": {},
     "output_type": "display_data"
    },
    {
     "data": {
      "text/html": [
       "<span style=\"color:blue\"> |-max_value: 512</span>"
      ],
      "text/plain": [
       "<IPython.core.display.HTML object>"
      ]
     },
     "metadata": {},
     "output_type": "display_data"
    },
    {
     "data": {
      "text/html": [
       "<span style=\"color:cyan\"> |-min_value: 32</span>"
      ],
      "text/plain": [
       "<IPython.core.display.HTML object>"
      ]
     },
     "metadata": {},
     "output_type": "display_data"
    },
    {
     "data": {
      "text/html": [
       "<span style=\"color:blue\"> |-sampling: None</span>"
      ],
      "text/plain": [
       "<IPython.core.display.HTML object>"
      ]
     },
     "metadata": {},
     "output_type": "display_data"
    },
    {
     "data": {
      "text/html": [
       "<span style=\"color:cyan\"> |-step: 32</span>"
      ],
      "text/plain": [
       "<IPython.core.display.HTML object>"
      ]
     },
     "metadata": {},
     "output_type": "display_data"
    },
    {
     "data": {
      "text/html": [
       "<span style=\"color:#7E57C2\"><h2 style=\"font-size:16px\">learning_rate (Choice)</h2></span>"
      ],
      "text/plain": [
       "<IPython.core.display.HTML object>"
      ]
     },
     "metadata": {},
     "output_type": "display_data"
    },
    {
     "data": {
      "text/html": [
       "<span style=\"color:cyan\"> |-default: 0.01</span>"
      ],
      "text/plain": [
       "<IPython.core.display.HTML object>"
      ]
     },
     "metadata": {},
     "output_type": "display_data"
    },
    {
     "data": {
      "text/html": [
       "<span style=\"color:blue\"> |-ordered: True</span>"
      ],
      "text/plain": [
       "<IPython.core.display.HTML object>"
      ]
     },
     "metadata": {},
     "output_type": "display_data"
    },
    {
     "data": {
      "text/html": [
       "<span style=\"color:cyan\"> |-values: [0.01, 0.001, 0.0001]</span>"
      ],
      "text/plain": [
       "<IPython.core.display.HTML object>"
      ]
     },
     "metadata": {},
     "output_type": "display_data"
    }
   ],
   "source": [
    "tuner.search_space_summary()"
   ]
  },
  {
   "cell_type": "code",
   "execution_count": 6,
   "metadata": {},
   "outputs": [
    {
     "name": "stdout",
     "output_type": "stream",
     "text": [
      "Epoch 1/5\n",
      "WARNING:tensorflow:Layer dense is casting an input tensor from dtype float64 to the layer's dtype of float32, which is new behavior in TensorFlow 2.  The layer has dtype float32 because it's dtype defaults to floatx.\n",
      "\n",
      "If you intended to run this layer in float32, you can safely ignore this warning. If in doubt, this warning is likely only an issue if you are porting a TensorFlow 1.X model to TensorFlow 2.\n",
      "\n",
      "To change all layers to have dtype float64 by default, call `tf.keras.backend.set_floatx('float64')`. To change just this layer, pass dtype='float64' to the layer constructor. If you are the author of this layer, you can disable autocasting by passing autocast=False to the base Layer constructor.\n",
      "\n",
      "250/250 [==============================] - ETA: 0s - loss: 1821.5282 - accuracy: 0.218 - ETA: 0s - loss: 228.9868 - accuracy: 0.664 - ETA: 0s - loss: 131.8174 - accuracy: 0.67 - ETA: 0s - loss: 99.5120 - accuracy: 0.6700 - ETA: 0s - loss: 81.4016 - accuracy: 0.670 - ETA: 0s - loss: 69.3082 - accuracy: 0.669 - 1s 3ms/step - loss: 62.0634 - accuracy: 0.6712 - val_loss: 16.1690 - val_accuracy: 0.7970\n",
      "Epoch 2/5\n",
      "250/250 [==============================] - ETA: 0s - loss: 29.6367 - accuracy: 0.750 - ETA: 0s - loss: 25.5454 - accuracy: 0.689 - ETA: 0s - loss: 24.0280 - accuracy: 0.687 - ETA: 0s - loss: 24.0732 - accuracy: 0.690 - ETA: 0s - loss: 24.7813 - accuracy: 0.690 - ETA: 0s - loss: 24.7452 - accuracy: 0.687 - 0s 1ms/step - loss: 25.1709 - accuracy: 0.6827 - val_loss: 15.1074 - val_accuracy: 0.6725\n",
      "Epoch 3/5\n",
      "250/250 [==============================] - ETA: 0s - loss: 10.8498 - accuracy: 0.656 - ETA: 0s - loss: 27.0312 - accuracy: 0.682 - ETA: 0s - loss: 25.9507 - accuracy: 0.683 - ETA: 0s - loss: 25.1102 - accuracy: 0.678 - ETA: 0s - loss: 22.6616 - accuracy: 0.687 - ETA: 0s - loss: 22.1849 - accuracy: 0.686 - 0s 1ms/step - loss: 21.5800 - accuracy: 0.6836 - val_loss: 21.4356 - val_accuracy: 0.7645\n",
      "Epoch 4/5\n",
      "250/250 [==============================] - ETA: 0s - loss: 41.0759 - accuracy: 0.812 - ETA: 0s - loss: 23.0012 - accuracy: 0.679 - ETA: 0s - loss: 22.5475 - accuracy: 0.676 - ETA: 0s - loss: 22.7929 - accuracy: 0.677 - ETA: 0s - loss: 24.6300 - accuracy: 0.677 - ETA: 0s - loss: 25.4651 - accuracy: 0.683 - 0s 1ms/step - loss: 24.7741 - accuracy: 0.6816 - val_loss: 13.9456 - val_accuracy: 0.7230\n",
      "Epoch 5/5\n",
      "250/250 [==============================] - ETA: 0s - loss: 16.2355 - accuracy: 0.750 - ETA: 0s - loss: 16.0561 - accuracy: 0.674 - ETA: 0s - loss: 15.7418 - accuracy: 0.681 - ETA: 0s - loss: 17.7385 - accuracy: 0.681 - ETA: 0s - loss: 19.1688 - accuracy: 0.687 - ETA: 0s - loss: 18.6440 - accuracy: 0.681 - 0s 1ms/step - loss: 18.2116 - accuracy: 0.6799 - val_loss: 20.6998 - val_accuracy: 0.5515\n",
      "Epoch 1/5\n",
      "WARNING:tensorflow:Layer dense is casting an input tensor from dtype float64 to the layer's dtype of float32, which is new behavior in TensorFlow 2.  The layer has dtype float32 because it's dtype defaults to floatx.\n",
      "\n",
      "If you intended to run this layer in float32, you can safely ignore this warning. If in doubt, this warning is likely only an issue if you are porting a TensorFlow 1.X model to TensorFlow 2.\n",
      "\n",
      "To change all layers to have dtype float64 by default, call `tf.keras.backend.set_floatx('float64')`. To change just this layer, pass dtype='float64' to the layer constructor. If you are the author of this layer, you can disable autocasting by passing autocast=False to the base Layer constructor.\n",
      "\n",
      "250/250 [==============================] - ETA: 0s - loss: 538.1464 - accuracy: 0.46 - ETA: 0s - loss: 54.0271 - accuracy: 0.6958 - ETA: 0s - loss: 45.4921 - accuracy: 0.708 - ETA: 0s - loss: 39.3234 - accuracy: 0.706 - ETA: 0s - loss: 37.7183 - accuracy: 0.701 - ETA: 0s - loss: 34.7351 - accuracy: 0.698 - 1s 3ms/step - loss: 34.0467 - accuracy: 0.6945 - val_loss: 40.4001 - val_accuracy: 0.7975\n",
      "Epoch 2/5\n",
      "250/250 [==============================] - ETA: 0s - loss: 33.2476 - accuracy: 0.843 - ETA: 0s - loss: 34.0878 - accuracy: 0.691 - ETA: 0s - loss: 37.7495 - accuracy: 0.686 - ETA: 0s - loss: 33.9269 - accuracy: 0.683 - ETA: 0s - loss: 31.4602 - accuracy: 0.680 - ETA: 0s - loss: 31.5173 - accuracy: 0.679 - 0s 1ms/step - loss: 31.4985 - accuracy: 0.6794 - val_loss: 10.2612 - val_accuracy: 0.7965\n",
      "Epoch 3/5\n",
      "250/250 [==============================] - ETA: 0s - loss: 7.4564 - accuracy: 0.84 - ETA: 0s - loss: 29.7872 - accuracy: 0.648 - ETA: 0s - loss: 29.5734 - accuracy: 0.678 - ETA: 0s - loss: 24.6686 - accuracy: 0.683 - ETA: 0s - loss: 23.5549 - accuracy: 0.679 - ETA: 0s - loss: 23.0250 - accuracy: 0.683 - 0s 1ms/step - loss: 23.9164 - accuracy: 0.6815 - val_loss: 37.7356 - val_accuracy: 0.5410\n",
      "Epoch 4/5\n",
      "250/250 [==============================] - ETA: 0s - loss: 32.1047 - accuracy: 0.406 - ETA: 0s - loss: 16.7398 - accuracy: 0.690 - ETA: 0s - loss: 20.2064 - accuracy: 0.686 - ETA: 0s - loss: 19.3209 - accuracy: 0.681 - ETA: 0s - loss: 18.9632 - accuracy: 0.683 - ETA: 0s - loss: 19.4626 - accuracy: 0.684 - 0s 1ms/step - loss: 19.3175 - accuracy: 0.6808 - val_loss: 26.1113 - val_accuracy: 0.7975\n",
      "Epoch 5/5\n",
      "250/250 [==============================] - ETA: 0s - loss: 22.8746 - accuracy: 0.812 - ETA: 0s - loss: 22.7781 - accuracy: 0.699 - ETA: 0s - loss: 19.1218 - accuracy: 0.691 - ETA: 0s - loss: 20.6326 - accuracy: 0.693 - ETA: 0s - loss: 21.2445 - accuracy: 0.690 - ETA: 0s - loss: 21.3979 - accuracy: 0.688 - 0s 1ms/step - loss: 22.7220 - accuracy: 0.6859 - val_loss: 13.6808 - val_accuracy: 0.5370\n",
      "Epoch 1/5\n",
      "WARNING:tensorflow:Layer dense is casting an input tensor from dtype float64 to the layer's dtype of float32, which is new behavior in TensorFlow 2.  The layer has dtype float32 because it's dtype defaults to floatx.\n",
      "\n",
      "If you intended to run this layer in float32, you can safely ignore this warning. If in doubt, this warning is likely only an issue if you are porting a TensorFlow 1.X model to TensorFlow 2.\n",
      "\n",
      "To change all layers to have dtype float64 by default, call `tf.keras.backend.set_floatx('float64')`. To change just this layer, pass dtype='float64' to the layer constructor. If you are the author of this layer, you can disable autocasting by passing autocast=False to the base Layer constructor.\n",
      "\n",
      "250/250 [==============================] - ETA: 0s - loss: 961.1163 - accuracy: 0.84 - ETA: 0s - loss: 147.1004 - accuracy: 0.68 - ETA: 0s - loss: 85.0352 - accuracy: 0.6903 - ETA: 0s - loss: 61.3276 - accuracy: 0.684 - ETA: 0s - loss: 50.1196 - accuracy: 0.683 - ETA: 0s - loss: 43.3203 - accuracy: 0.681 - 0s 2ms/step - loss: 41.2785 - accuracy: 0.6805 - val_loss: 33.0194 - val_accuracy: 0.2125\n",
      "Epoch 2/5\n",
      "250/250 [==============================] - ETA: 0s - loss: 23.3366 - accuracy: 0.281 - ETA: 0s - loss: 24.6612 - accuracy: 0.673 - ETA: 0s - loss: 21.1349 - accuracy: 0.674 - ETA: 0s - loss: 19.5538 - accuracy: 0.672 - ETA: 0s - loss: 19.1291 - accuracy: 0.676 - ETA: 0s - loss: 18.3021 - accuracy: 0.678 - 1s 4ms/step - loss: 18.3667 - accuracy: 0.6805 - val_loss: 10.4995 - val_accuracy: 0.7980\n",
      "Epoch 3/5\n",
      "250/250 [==============================] - ETA: 0s - loss: 1.6913 - accuracy: 0.93 - ETA: 0s - loss: 14.8266 - accuracy: 0.715 - ETA: 0s - loss: 17.3771 - accuracy: 0.693 - ETA: 0s - loss: 16.5843 - accuracy: 0.695 - ETA: 0s - loss: 16.9279 - accuracy: 0.684 - ETA: 0s - loss: 16.2370 - accuracy: 0.685 - 0s 1ms/step - loss: 16.5546 - accuracy: 0.6858 - val_loss: 15.9526 - val_accuracy: 0.5475\n",
      "Epoch 4/5\n",
      "250/250 [==============================] - ETA: 0s - loss: 20.7663 - accuracy: 0.531 - ETA: 0s - loss: 23.2950 - accuracy: 0.668 - ETA: 0s - loss: 22.7750 - accuracy: 0.667 - ETA: 0s - loss: 21.3887 - accuracy: 0.679 - ETA: 0s - loss: 18.6447 - accuracy: 0.683 - ETA: 0s - loss: 19.0430 - accuracy: 0.686 - 0s 1ms/step - loss: 18.4195 - accuracy: 0.6862 - val_loss: 12.1888 - val_accuracy: 0.4205\n",
      "Epoch 5/5\n",
      "250/250 [==============================] - ETA: 0s - loss: 14.9571 - accuracy: 0.375 - ETA: 0s - loss: 12.6879 - accuracy: 0.695 - ETA: 0s - loss: 19.8313 - accuracy: 0.688 - ETA: 0s - loss: 18.5322 - accuracy: 0.675 - ETA: 0s - loss: 19.1192 - accuracy: 0.680 - ETA: 0s - loss: 18.7070 - accuracy: 0.679 - 0s 1ms/step - loss: 18.4971 - accuracy: 0.6769 - val_loss: 6.7564 - val_accuracy: 0.7910\n"
     ]
    },
    {
     "data": {
      "text/html": [
       "<span style=\"color:#4527A0\"><h1 style=\"font-size:18px\">Trial complete</h1></span>"
      ],
      "text/plain": [
       "<IPython.core.display.HTML object>"
      ]
     },
     "metadata": {},
     "output_type": "display_data"
    },
    {
     "data": {
      "text/html": [
       "<span style=\"color:#4527A0\"><h1 style=\"font-size:18px\">Trial summary</h1></span>"
      ],
      "text/plain": [
       "<IPython.core.display.HTML object>"
      ]
     },
     "metadata": {},
     "output_type": "display_data"
    },
    {
     "data": {
      "text/html": [
       "<span style=\"color:cyan\"> |-Trial ID: 1be3507004780170aa4443e3cc0c2e5b</span>"
      ],
      "text/plain": [
       "<IPython.core.display.HTML object>"
      ]
     },
     "metadata": {},
     "output_type": "display_data"
    },
    {
     "data": {
      "text/html": [
       "<span style=\"color:cyan\"> |-Score: 0.7974999944368998</span>"
      ],
      "text/plain": [
       "<IPython.core.display.HTML object>"
      ]
     },
     "metadata": {},
     "output_type": "display_data"
    },
    {
     "data": {
      "text/html": [
       "<span style=\"color:cyan\"> |-Best step: 0</span>"
      ],
      "text/plain": [
       "<IPython.core.display.HTML object>"
      ]
     },
     "metadata": {},
     "output_type": "display_data"
    },
    {
     "data": {
      "text/html": [
       "<span style=\"color:#7E57C2\"><h2 style=\"font-size:16px\">Hyperparameters:</h2></span>"
      ],
      "text/plain": [
       "<IPython.core.display.HTML object>"
      ]
     },
     "metadata": {},
     "output_type": "display_data"
    },
    {
     "data": {
      "text/html": [
       "<span style=\"color:cyan\"> |-learning_rate: 0.0001</span>"
      ],
      "text/plain": [
       "<IPython.core.display.HTML object>"
      ]
     },
     "metadata": {},
     "output_type": "display_data"
    },
    {
     "data": {
      "text/html": [
       "<span style=\"color:blue\"> |-num_layers: 4</span>"
      ],
      "text/plain": [
       "<IPython.core.display.HTML object>"
      ]
     },
     "metadata": {},
     "output_type": "display_data"
    },
    {
     "data": {
      "text/html": [
       "<span style=\"color:cyan\"> |-units_0: 512</span>"
      ],
      "text/plain": [
       "<IPython.core.display.HTML object>"
      ]
     },
     "metadata": {},
     "output_type": "display_data"
    },
    {
     "data": {
      "text/html": [
       "<span style=\"color:blue\"> |-units_1: 288</span>"
      ],
      "text/plain": [
       "<IPython.core.display.HTML object>"
      ]
     },
     "metadata": {},
     "output_type": "display_data"
    },
    {
     "data": {
      "text/html": [
       "<span style=\"color:cyan\"> |-units_2: 32</span>"
      ],
      "text/plain": [
       "<IPython.core.display.HTML object>"
      ]
     },
     "metadata": {},
     "output_type": "display_data"
    },
    {
     "data": {
      "text/html": [
       "<span style=\"color:blue\"> |-units_3: 32</span>"
      ],
      "text/plain": [
       "<IPython.core.display.HTML object>"
      ]
     },
     "metadata": {},
     "output_type": "display_data"
    },
    {
     "name": "stdout",
     "output_type": "stream",
     "text": [
      "Epoch 1/5\n",
      "WARNING:tensorflow:Layer dense is casting an input tensor from dtype float64 to the layer's dtype of float32, which is new behavior in TensorFlow 2.  The layer has dtype float32 because it's dtype defaults to floatx.\n",
      "\n",
      "If you intended to run this layer in float32, you can safely ignore this warning. If in doubt, this warning is likely only an issue if you are porting a TensorFlow 1.X model to TensorFlow 2.\n",
      "\n",
      "To change all layers to have dtype float64 by default, call `tf.keras.backend.set_floatx('float64')`. To change just this layer, pass dtype='float64' to the layer constructor. If you are the author of this layer, you can disable autocasting by passing autocast=False to the base Layer constructor.\n",
      "\n",
      "250/250 [==============================] - ETA: 0s - loss: 2097.8259 - accuracy: 0.218 - ETA: 0s - loss: 168.0924 - accuracy: 0.600 - ETA: 0s - loss: 89.3752 - accuracy: 0.6458 - ETA: 0s - loss: 63.4146 - accuracy: 0.658 - ETA: 0s - loss: 52.5005 - accuracy: 0.664 - ETA: 0s - loss: 43.9071 - accuracy: 0.661 - ETA: 0s - loss: 38.5774 - accuracy: 0.661 - 1s 3ms/step - loss: 37.4582 - accuracy: 0.6612 - val_loss: 7.5462 - val_accuracy: 0.7145\n",
      "Epoch 2/5\n",
      "250/250 [==============================] - ETA: 0s - loss: 5.9405 - accuracy: 0.75 - ETA: 0s - loss: 13.0342 - accuracy: 0.668 - ETA: 0s - loss: 13.4887 - accuracy: 0.674 - ETA: 0s - loss: 13.4503 - accuracy: 0.689 - ETA: 0s - loss: 12.5660 - accuracy: 0.687 - ETA: 0s - loss: 11.2264 - accuracy: 0.677 - ETA: 0s - loss: 10.6435 - accuracy: 0.679 - 0s 2ms/step - loss: 10.6812 - accuracy: 0.6791 - val_loss: 26.9900 - val_accuracy: 0.3035\n",
      "Epoch 3/5\n",
      "250/250 [==============================] - ETA: 0s - loss: 25.0357 - accuracy: 0.375 - ETA: 0s - loss: 11.7014 - accuracy: 0.642 - ETA: 0s - loss: 10.3475 - accuracy: 0.653 - ETA: 0s - loss: 10.7010 - accuracy: 0.657 - ETA: 0s - loss: 10.3085 - accuracy: 0.662 - ETA: 0s - loss: 10.0791 - accuracy: 0.667 - ETA: 0s - loss: 9.7463 - accuracy: 0.672 - 0s 2ms/step - loss: 9.8277 - accuracy: 0.6729 - val_loss: 5.9365 - val_accuracy: 0.5555\n",
      "Epoch 4/5\n",
      "250/250 [==============================] - ETA: 0s - loss: 3.4461 - accuracy: 0.68 - ETA: 0s - loss: 7.6253 - accuracy: 0.68 - ETA: 0s - loss: 9.5550 - accuracy: 0.68 - ETA: 0s - loss: 9.0678 - accuracy: 0.67 - ETA: 0s - loss: 8.1403 - accuracy: 0.68 - ETA: 0s - loss: 9.2861 - accuracy: 0.67 - ETA: 0s - loss: 9.0166 - accuracy: 0.68 - 1s 3ms/step - loss: 9.0334 - accuracy: 0.6794 - val_loss: 15.9141 - val_accuracy: 0.7975\n",
      "Epoch 5/5\n",
      "250/250 [==============================] - ETA: 0s - loss: 22.5087 - accuracy: 0.656 - ETA: 0s - loss: 10.1930 - accuracy: 0.696 - ETA: 0s - loss: 8.6446 - accuracy: 0.685 - ETA: 0s - loss: 7.6197 - accuracy: 0.68 - ETA: 0s - loss: 7.6313 - accuracy: 0.67 - ETA: 0s - loss: 7.6800 - accuracy: 0.67 - ETA: 0s - loss: 7.8474 - accuracy: 0.68 - 0s 2ms/step - loss: 7.6681 - accuracy: 0.6815 - val_loss: 4.9440 - val_accuracy: 0.7720\n",
      "Epoch 1/5\n",
      "WARNING:tensorflow:Layer dense is casting an input tensor from dtype float64 to the layer's dtype of float32, which is new behavior in TensorFlow 2.  The layer has dtype float32 because it's dtype defaults to floatx.\n",
      "\n",
      "If you intended to run this layer in float32, you can safely ignore this warning. If in doubt, this warning is likely only an issue if you are porting a TensorFlow 1.X model to TensorFlow 2.\n",
      "\n",
      "To change all layers to have dtype float64 by default, call `tf.keras.backend.set_floatx('float64')`. To change just this layer, pass dtype='float64' to the layer constructor. If you are the author of this layer, you can disable autocasting by passing autocast=False to the base Layer constructor.\n",
      "\n",
      "250/250 [==============================] - ETA: 0s - loss: 196.3730 - accuracy: 0.25 - ETA: 0s - loss: 47.4217 - accuracy: 0.6604 - ETA: 0s - loss: 35.1249 - accuracy: 0.660 - ETA: 0s - loss: 28.0081 - accuracy: 0.657 - ETA: 0s - loss: 24.3340 - accuracy: 0.675 - ETA: 0s - loss: 22.6280 - accuracy: 0.675 - ETA: 0s - loss: 21.6225 - accuracy: 0.678 - 0s 2ms/step - loss: 20.9528 - accuracy: 0.6802 - val_loss: 10.7457 - val_accuracy: 0.6420\n",
      "Epoch 2/5\n",
      "250/250 [==============================] - ETA: 0s - loss: 15.3735 - accuracy: 0.718 - ETA: 0s - loss: 18.3558 - accuracy: 0.682 - ETA: 0s - loss: 14.5527 - accuracy: 0.679 - ETA: 0s - loss: 14.0899 - accuracy: 0.684 - ETA: 0s - loss: 13.6914 - accuracy: 0.678 - ETA: 0s - loss: 12.6786 - accuracy: 0.682 - ETA: 0s - loss: 12.7372 - accuracy: 0.680 - 0s 2ms/step - loss: 12.6630 - accuracy: 0.6804 - val_loss: 8.4269 - val_accuracy: 0.7975\n",
      "Epoch 3/5\n",
      "250/250 [==============================] - ETA: 0s - loss: 4.0091 - accuracy: 0.90 - ETA: 0s - loss: 10.0716 - accuracy: 0.658 - ETA: 0s - loss: 9.7911 - accuracy: 0.673 - ETA: 0s - loss: 8.5350 - accuracy: 0.67 - ETA: 0s - loss: 7.7937 - accuracy: 0.67 - ETA: 0s - loss: 7.8185 - accuracy: 0.67 - ETA: 0s - loss: 7.4762 - accuracy: 0.67 - 0s 2ms/step - loss: 7.3803 - accuracy: 0.6759 - val_loss: 12.3571 - val_accuracy: 0.5815\n",
      "Epoch 4/5\n",
      "250/250 [==============================] - ETA: 0s - loss: 6.1060 - accuracy: 0.50 - ETA: 0s - loss: 7.7540 - accuracy: 0.67 - ETA: 0s - loss: 5.9420 - accuracy: 0.68 - ETA: 0s - loss: 5.7661 - accuracy: 0.68 - ETA: 0s - loss: 5.4799 - accuracy: 0.67 - ETA: 0s - loss: 5.9682 - accuracy: 0.67 - ETA: 0s - loss: 6.6407 - accuracy: 0.67 - ETA: 0s - loss: 6.5813 - accuracy: 0.67 - 0s 2ms/step - loss: 6.5638 - accuracy: 0.6769 - val_loss: 13.6418 - val_accuracy: 0.5490\n",
      "Epoch 5/5\n",
      "250/250 [==============================] - ETA: 0s - loss: 11.1095 - accuracy: 0.687 - ETA: 0s - loss: 6.2284 - accuracy: 0.686 - ETA: 0s - loss: 6.6824 - accuracy: 0.67 - ETA: 0s - loss: 5.9622 - accuracy: 0.67 - ETA: 0s - loss: 6.5549 - accuracy: 0.66 - ETA: 0s - loss: 6.9083 - accuracy: 0.66 - ETA: 0s - loss: 6.7754 - accuracy: 0.67 - 0s 2ms/step - loss: 6.8698 - accuracy: 0.6786 - val_loss: 8.0091 - val_accuracy: 0.7765\n",
      "Epoch 1/5\n",
      "WARNING:tensorflow:Layer dense is casting an input tensor from dtype float64 to the layer's dtype of float32, which is new behavior in TensorFlow 2.  The layer has dtype float32 because it's dtype defaults to floatx.\n",
      "\n",
      "If you intended to run this layer in float32, you can safely ignore this warning. If in doubt, this warning is likely only an issue if you are porting a TensorFlow 1.X model to TensorFlow 2.\n",
      "\n",
      "To change all layers to have dtype float64 by default, call `tf.keras.backend.set_floatx('float64')`. To change just this layer, pass dtype='float64' to the layer constructor. If you are the author of this layer, you can disable autocasting by passing autocast=False to the base Layer constructor.\n",
      "\n",
      "250/250 [==============================] - ETA: 0s - loss: 1181.5006 - accuracy: 0.187 - ETA: 0s - loss: 113.3082 - accuracy: 0.659 - ETA: 0s - loss: 58.8739 - accuracy: 0.6592 - ETA: 0s - loss: 44.0983 - accuracy: 0.672 - ETA: 0s - loss: 37.3587 - accuracy: 0.670 - ETA: 0s - loss: 32.5911 - accuracy: 0.673 - ETA: 0s - loss: 29.7065 - accuracy: 0.669 - 0s 2ms/step - loss: 27.7729 - accuracy: 0.6704 - val_loss: 3.3967 - val_accuracy: 0.4605\n",
      "Epoch 2/5\n",
      "250/250 [==============================] - ETA: 0s - loss: 4.1699 - accuracy: 0.46 - ETA: 0s - loss: 8.6047 - accuracy: 0.63 - ETA: 0s - loss: 8.2336 - accuracy: 0.65 - ETA: 0s - loss: 7.9613 - accuracy: 0.65 - ETA: 0s - loss: 8.2719 - accuracy: 0.66 - ETA: 0s - loss: 8.2855 - accuracy: 0.66 - ETA: 0s - loss: 8.3653 - accuracy: 0.66 - 0s 2ms/step - loss: 8.3230 - accuracy: 0.6681 - val_loss: 10.0533 - val_accuracy: 0.7975\n",
      "Epoch 3/5\n",
      "250/250 [==============================] - ETA: 0s - loss: 6.3136 - accuracy: 0.81 - ETA: 0s - loss: 4.5011 - accuracy: 0.66 - ETA: 0s - loss: 4.7938 - accuracy: 0.67 - ETA: 0s - loss: 4.8035 - accuracy: 0.67 - ETA: 0s - loss: 4.8955 - accuracy: 0.67 - ETA: 0s - loss: 4.9938 - accuracy: 0.68 - ETA: 0s - loss: 4.9450 - accuracy: 0.68 - 0s 2ms/step - loss: 4.8112 - accuracy: 0.6839 - val_loss: 2.7637 - val_accuracy: 0.6730\n",
      "Epoch 4/5\n"
     ]
    },
    {
     "name": "stdout",
     "output_type": "stream",
     "text": [
      "250/250 [==============================] - ETA: 0s - loss: 1.1416 - accuracy: 0.68 - ETA: 0s - loss: 6.6790 - accuracy: 0.69 - ETA: 0s - loss: 5.4716 - accuracy: 0.69 - ETA: 0s - loss: 5.2366 - accuracy: 0.69 - ETA: 0s - loss: 5.3748 - accuracy: 0.68 - ETA: 0s - loss: 5.5103 - accuracy: 0.68 - ETA: 0s - loss: 5.4389 - accuracy: 0.68 - 0s 2ms/step - loss: 5.4860 - accuracy: 0.6777 - val_loss: 7.7069 - val_accuracy: 0.5365\n",
      "Epoch 5/5\n",
      "250/250 [==============================] - ETA: 0s - loss: 5.6447 - accuracy: 0.65 - ETA: 0s - loss: 4.2484 - accuracy: 0.67 - ETA: 0s - loss: 4.1158 - accuracy: 0.68 - ETA: 0s - loss: 4.1990 - accuracy: 0.68 - ETA: 0s - loss: 4.0860 - accuracy: 0.68 - ETA: 0s - loss: 4.1710 - accuracy: 0.67 - ETA: 0s - loss: 4.1650 - accuracy: 0.68 - 0s 2ms/step - loss: 3.9929 - accuracy: 0.6834 - val_loss: 1.8179 - val_accuracy: 0.7465\n"
     ]
    },
    {
     "data": {
      "text/html": [
       "<span style=\"color:#4527A0\"><h1 style=\"font-size:18px\">Trial complete</h1></span>"
      ],
      "text/plain": [
       "<IPython.core.display.HTML object>"
      ]
     },
     "metadata": {},
     "output_type": "display_data"
    },
    {
     "data": {
      "text/html": [
       "<span style=\"color:#4527A0\"><h1 style=\"font-size:18px\">Trial summary</h1></span>"
      ],
      "text/plain": [
       "<IPython.core.display.HTML object>"
      ]
     },
     "metadata": {},
     "output_type": "display_data"
    },
    {
     "data": {
      "text/html": [
       "<span style=\"color:cyan\"> |-Trial ID: c5bf9117d23e0de755daf9c2cd2e1749</span>"
      ],
      "text/plain": [
       "<IPython.core.display.HTML object>"
      ]
     },
     "metadata": {},
     "output_type": "display_data"
    },
    {
     "data": {
      "text/html": [
       "<span style=\"color:cyan\"> |-Score: 0.7975000143051147</span>"
      ],
      "text/plain": [
       "<IPython.core.display.HTML object>"
      ]
     },
     "metadata": {},
     "output_type": "display_data"
    },
    {
     "data": {
      "text/html": [
       "<span style=\"color:cyan\"> |-Best step: 0</span>"
      ],
      "text/plain": [
       "<IPython.core.display.HTML object>"
      ]
     },
     "metadata": {},
     "output_type": "display_data"
    },
    {
     "data": {
      "text/html": [
       "<span style=\"color:#7E57C2\"><h2 style=\"font-size:16px\">Hyperparameters:</h2></span>"
      ],
      "text/plain": [
       "<IPython.core.display.HTML object>"
      ]
     },
     "metadata": {},
     "output_type": "display_data"
    },
    {
     "data": {
      "text/html": [
       "<span style=\"color:cyan\"> |-learning_rate: 0.0001</span>"
      ],
      "text/plain": [
       "<IPython.core.display.HTML object>"
      ]
     },
     "metadata": {},
     "output_type": "display_data"
    },
    {
     "data": {
      "text/html": [
       "<span style=\"color:blue\"> |-num_layers: 7</span>"
      ],
      "text/plain": [
       "<IPython.core.display.HTML object>"
      ]
     },
     "metadata": {},
     "output_type": "display_data"
    },
    {
     "data": {
      "text/html": [
       "<span style=\"color:cyan\"> |-units_0: 256</span>"
      ],
      "text/plain": [
       "<IPython.core.display.HTML object>"
      ]
     },
     "metadata": {},
     "output_type": "display_data"
    },
    {
     "data": {
      "text/html": [
       "<span style=\"color:blue\"> |-units_1: 320</span>"
      ],
      "text/plain": [
       "<IPython.core.display.HTML object>"
      ]
     },
     "metadata": {},
     "output_type": "display_data"
    },
    {
     "data": {
      "text/html": [
       "<span style=\"color:cyan\"> |-units_2: 256</span>"
      ],
      "text/plain": [
       "<IPython.core.display.HTML object>"
      ]
     },
     "metadata": {},
     "output_type": "display_data"
    },
    {
     "data": {
      "text/html": [
       "<span style=\"color:blue\"> |-units_3: 192</span>"
      ],
      "text/plain": [
       "<IPython.core.display.HTML object>"
      ]
     },
     "metadata": {},
     "output_type": "display_data"
    },
    {
     "data": {
      "text/html": [
       "<span style=\"color:cyan\"> |-units_4: 32</span>"
      ],
      "text/plain": [
       "<IPython.core.display.HTML object>"
      ]
     },
     "metadata": {},
     "output_type": "display_data"
    },
    {
     "data": {
      "text/html": [
       "<span style=\"color:blue\"> |-units_5: 32</span>"
      ],
      "text/plain": [
       "<IPython.core.display.HTML object>"
      ]
     },
     "metadata": {},
     "output_type": "display_data"
    },
    {
     "data": {
      "text/html": [
       "<span style=\"color:cyan\"> |-units_6: 32</span>"
      ],
      "text/plain": [
       "<IPython.core.display.HTML object>"
      ]
     },
     "metadata": {},
     "output_type": "display_data"
    },
    {
     "name": "stdout",
     "output_type": "stream",
     "text": [
      "Epoch 1/5\n",
      "WARNING:tensorflow:Layer dense is casting an input tensor from dtype float64 to the layer's dtype of float32, which is new behavior in TensorFlow 2.  The layer has dtype float32 because it's dtype defaults to floatx.\n",
      "\n",
      "If you intended to run this layer in float32, you can safely ignore this warning. If in doubt, this warning is likely only an issue if you are porting a TensorFlow 1.X model to TensorFlow 2.\n",
      "\n",
      "To change all layers to have dtype float64 by default, call `tf.keras.backend.set_floatx('float64')`. To change just this layer, pass dtype='float64' to the layer constructor. If you are the author of this layer, you can disable autocasting by passing autocast=False to the base Layer constructor.\n",
      "\n",
      "250/250 [==============================] - ETA: 0s - loss: 1107.3535 - accuracy: 0.812 - ETA: 0s - loss: 281.9243 - accuracy: 0.651 - ETA: 0s - loss: 166.3384 - accuracy: 0.67 - ETA: 0s - loss: 124.7494 - accuracy: 0.67 - ETA: 0s - loss: 104.0220 - accuracy: 0.68 - ETA: 0s - loss: 87.9012 - accuracy: 0.6807 - 1s 3ms/step - loss: 77.8375 - accuracy: 0.6820 - val_loss: 23.9221 - val_accuracy: 0.4675\n",
      "Epoch 2/5\n",
      "250/250 [==============================] - ETA: 0s - loss: 27.4912 - accuracy: 0.406 - ETA: 0s - loss: 11.5711 - accuracy: 0.698 - ETA: 0s - loss: 7.6584 - accuracy: 0.704 - ETA: 0s - loss: 5.4269 - accuracy: 0.72 - ETA: 0s - loss: 4.2875 - accuracy: 0.73 - ETA: 0s - loss: 3.5993 - accuracy: 0.73 - 1s 3ms/step - loss: 3.3014 - accuracy: 0.7420 - val_loss: 0.5202 - val_accuracy: 0.7975\n",
      "Epoch 3/5\n",
      "250/250 [==============================] - ETA: 0s - loss: 0.4949 - accuracy: 0.75 - ETA: 0s - loss: 0.6069 - accuracy: 0.78 - ETA: 0s - loss: 0.5593 - accuracy: 0.79 - ETA: 0s - loss: 0.5442 - accuracy: 0.79 - ETA: 0s - loss: 0.5378 - accuracy: 0.79 - ETA: 0s - loss: 0.5315 - accuracy: 0.79 - 0s 2ms/step - loss: 0.5256 - accuracy: 0.7960 - val_loss: 0.5038 - val_accuracy: 0.7975\n",
      "Epoch 4/5\n",
      "250/250 [==============================] - ETA: 0s - loss: 0.5983 - accuracy: 0.71 - ETA: 0s - loss: 0.5034 - accuracy: 0.79 - ETA: 0s - loss: 0.5116 - accuracy: 0.79 - ETA: 0s - loss: 0.5128 - accuracy: 0.79 - ETA: 0s - loss: 0.5168 - accuracy: 0.78 - ETA: 0s - loss: 0.5241 - accuracy: 0.79 - 0s 2ms/step - loss: 0.5170 - accuracy: 0.7960 - val_loss: 1.1623 - val_accuracy: 0.7790\n",
      "Epoch 5/5\n",
      "250/250 [==============================] - ETA: 0s - loss: 0.4120 - accuracy: 0.84 - ETA: 0s - loss: 0.5268 - accuracy: 0.80 - ETA: 0s - loss: 0.5384 - accuracy: 0.78 - ETA: 0s - loss: 0.5275 - accuracy: 0.78 - ETA: 0s - loss: 0.5328 - accuracy: 0.78 - ETA: 0s - loss: 0.5267 - accuracy: 0.79 - 0s 2ms/step - loss: 0.5220 - accuracy: 0.7933 - val_loss: 0.5111 - val_accuracy: 0.7975\n",
      "Epoch 1/5\n",
      "WARNING:tensorflow:Layer dense is casting an input tensor from dtype float64 to the layer's dtype of float32, which is new behavior in TensorFlow 2.  The layer has dtype float32 because it's dtype defaults to floatx.\n",
      "\n",
      "If you intended to run this layer in float32, you can safely ignore this warning. If in doubt, this warning is likely only an issue if you are porting a TensorFlow 1.X model to TensorFlow 2.\n",
      "\n",
      "To change all layers to have dtype float64 by default, call `tf.keras.backend.set_floatx('float64')`. To change just this layer, pass dtype='float64' to the layer constructor. If you are the author of this layer, you can disable autocasting by passing autocast=False to the base Layer constructor.\n",
      "\n",
      "250/250 [==============================] - ETA: 0s - loss: 3782.4397 - accuracy: 0.062 - ETA: 0s - loss: 614.0043 - accuracy: 0.666 - ETA: 0s - loss: 335.2044 - accuracy: 0.69 - ETA: 0s - loss: 229.7858 - accuracy: 0.68 - ETA: 0s - loss: 176.2235 - accuracy: 0.68 - ETA: 0s - loss: 143.5812 - accuracy: 0.68 - 0s 2ms/step - loss: 129.6385 - accuracy: 0.6809 - val_loss: 8.0651 - val_accuracy: 0.6925\n",
      "Epoch 2/5\n",
      "250/250 [==============================] - ETA: 0s - loss: 9.4434 - accuracy: 0.68 - ETA: 0s - loss: 7.9268 - accuracy: 0.67 - ETA: 0s - loss: 8.3735 - accuracy: 0.68 - ETA: 0s - loss: 6.5544 - accuracy: 0.68 - ETA: 0s - loss: 6.0359 - accuracy: 0.67 - ETA: 0s - loss: 5.1818 - accuracy: 0.68 - 0s 2ms/step - loss: 4.5895 - accuracy: 0.7049 - val_loss: 0.5576 - val_accuracy: 0.7975\n",
      "Epoch 3/5\n",
      "250/250 [==============================] - ETA: 0s - loss: 0.5354 - accuracy: 0.78 - ETA: 0s - loss: 0.5521 - accuracy: 0.79 - ETA: 0s - loss: 0.5460 - accuracy: 0.79 - ETA: 0s - loss: 0.5332 - accuracy: 0.79 - ETA: 0s - loss: 0.5330 - accuracy: 0.79 - ETA: 0s - loss: 0.5314 - accuracy: 0.79 - 0s 2ms/step - loss: 0.5404 - accuracy: 0.7951 - val_loss: 0.5078 - val_accuracy: 0.7975\n",
      "Epoch 4/5\n",
      "250/250 [==============================] - ETA: 0s - loss: 0.6850 - accuracy: 0.62 - ETA: 0s - loss: 0.5374 - accuracy: 0.76 - ETA: 0s - loss: 0.5284 - accuracy: 0.77 - ETA: 0s - loss: 0.5146 - accuracy: 0.79 - ETA: 0s - loss: 0.5086 - accuracy: 0.79 - ETA: 0s - loss: 0.5052 - accuracy: 0.79 - 0s 1ms/step - loss: 0.5057 - accuracy: 0.7960 - val_loss: 0.5012 - val_accuracy: 0.7975\n",
      "Epoch 5/5\n",
      "250/250 [==============================] - ETA: 0s - loss: 0.7112 - accuracy: 0.62 - ETA: 0s - loss: 0.5321 - accuracy: 0.77 - ETA: 0s - loss: 0.5178 - accuracy: 0.78 - ETA: 0s - loss: 0.5086 - accuracy: 0.79 - ETA: 0s - loss: 0.5039 - accuracy: 0.79 - ETA: 0s - loss: 0.5056 - accuracy: 0.79 - 0s 2ms/step - loss: 0.5897 - accuracy: 0.7929 - val_loss: 1.2998 - val_accuracy: 0.7810\n",
      "Epoch 1/5\n",
      "WARNING:tensorflow:Layer dense is casting an input tensor from dtype float64 to the layer's dtype of float32, which is new behavior in TensorFlow 2.  The layer has dtype float32 because it's dtype defaults to floatx.\n",
      "\n",
      "If you intended to run this layer in float32, you can safely ignore this warning. If in doubt, this warning is likely only an issue if you are porting a TensorFlow 1.X model to TensorFlow 2.\n",
      "\n",
      "To change all layers to have dtype float64 by default, call `tf.keras.backend.set_floatx('float64')`. To change just this layer, pass dtype='float64' to the layer constructor. If you are the author of this layer, you can disable autocasting by passing autocast=False to the base Layer constructor.\n",
      "\n",
      "250/250 [==============================] - ETA: 0s - loss: 926.8843 - accuracy: 0.84 - ETA: 0s - loss: 319.9594 - accuracy: 0.68 - ETA: 0s - loss: 221.4715 - accuracy: 0.68 - ETA: 0s - loss: 160.6501 - accuracy: 0.68 - ETA: 0s - loss: 129.1892 - accuracy: 0.68 - ETA: 0s - loss: 108.5192 - accuracy: 0.67 - 0s 2ms/step - loss: 99.3233 - accuracy: 0.6787 - val_loss: 25.9027 - val_accuracy: 0.2710\n",
      "Epoch 2/5\n",
      "250/250 [==============================] - ETA: 0s - loss: 26.8127 - accuracy: 0.312 - ETA: 0s - loss: 8.9482 - accuracy: 0.675 - ETA: 0s - loss: 7.3074 - accuracy: 0.68 - ETA: 0s - loss: 7.0142 - accuracy: 0.68 - ETA: 0s - loss: 6.7197 - accuracy: 0.68 - ETA: 0s - loss: 6.3438 - accuracy: 0.67 - 0s 1ms/step - loss: 6.1641 - accuracy: 0.6789 - val_loss: 4.9389 - val_accuracy: 0.2850\n",
      "Epoch 3/5\n",
      "250/250 [==============================] - ETA: 0s - loss: 4.7690 - accuracy: 0.28 - ETA: 0s - loss: 4.1041 - accuracy: 0.67 - ETA: 0s - loss: 4.0680 - accuracy: 0.67 - ETA: 0s - loss: 3.3829 - accuracy: 0.67 - ETA: 0s - loss: 2.8262 - accuracy: 0.68 - ETA: 0s - loss: 2.3954 - accuracy: 0.69 - 0s 1ms/step - loss: 2.2139 - accuracy: 0.7061 - val_loss: 1.7235 - val_accuracy: 0.7975\n",
      "Epoch 4/5\n",
      "250/250 [==============================] - ETA: 0s - loss: 1.0688 - accuracy: 0.81 - ETA: 0s - loss: 1.5078 - accuracy: 0.75 - ETA: 0s - loss: 1.2952 - accuracy: 0.74 - ETA: 0s - loss: 1.3694 - accuracy: 0.74 - ETA: 0s - loss: 1.6602 - accuracy: 0.74 - ETA: 0s - loss: 1.6777 - accuracy: 0.75 - ETA: 0s - loss: 1.4780 - accuracy: 0.76 - 0s 2ms/step - loss: 1.4736 - accuracy: 0.7650 - val_loss: 0.5124 - val_accuracy: 0.7975\n",
      "Epoch 5/5\n",
      "250/250 [==============================] - ETA: 0s - loss: 0.4085 - accuracy: 0.87 - ETA: 0s - loss: 0.4982 - accuracy: 0.80 - ETA: 0s - loss: 0.5186 - accuracy: 0.78 - ETA: 0s - loss: 0.5118 - accuracy: 0.79 - ETA: 0s - loss: 0.5145 - accuracy: 0.79 - ETA: 0s - loss: 0.5109 - accuracy: 0.79 - 0s 1ms/step - loss: 0.5062 - accuracy: 0.7960 - val_loss: 0.5145 - val_accuracy: 0.7975\n"
     ]
    },
    {
     "data": {
      "text/html": [
       "<span style=\"color:#4527A0\"><h1 style=\"font-size:18px\">Trial complete</h1></span>"
      ],
      "text/plain": [
       "<IPython.core.display.HTML object>"
      ]
     },
     "metadata": {},
     "output_type": "display_data"
    },
    {
     "data": {
      "text/html": [
       "<span style=\"color:#4527A0\"><h1 style=\"font-size:18px\">Trial summary</h1></span>"
      ],
      "text/plain": [
       "<IPython.core.display.HTML object>"
      ]
     },
     "metadata": {},
     "output_type": "display_data"
    },
    {
     "data": {
      "text/html": [
       "<span style=\"color:cyan\"> |-Trial ID: 887583320fbb121cde212315420d60d7</span>"
      ],
      "text/plain": [
       "<IPython.core.display.HTML object>"
      ]
     },
     "metadata": {},
     "output_type": "display_data"
    },
    {
     "data": {
      "text/html": [
       "<span style=\"color:cyan\"> |-Score: 0.7975000143051147</span>"
      ],
      "text/plain": [
       "<IPython.core.display.HTML object>"
      ]
     },
     "metadata": {},
     "output_type": "display_data"
    },
    {
     "data": {
      "text/html": [
       "<span style=\"color:cyan\"> |-Best step: 0</span>"
      ],
      "text/plain": [
       "<IPython.core.display.HTML object>"
      ]
     },
     "metadata": {},
     "output_type": "display_data"
    },
    {
     "data": {
      "text/html": [
       "<span style=\"color:#7E57C2\"><h2 style=\"font-size:16px\">Hyperparameters:</h2></span>"
      ],
      "text/plain": [
       "<IPython.core.display.HTML object>"
      ]
     },
     "metadata": {},
     "output_type": "display_data"
    },
    {
     "data": {
      "text/html": [
       "<span style=\"color:cyan\"> |-learning_rate: 0.001</span>"
      ],
      "text/plain": [
       "<IPython.core.display.HTML object>"
      ]
     },
     "metadata": {},
     "output_type": "display_data"
    },
    {
     "data": {
      "text/html": [
       "<span style=\"color:blue\"> |-num_layers: 4</span>"
      ],
      "text/plain": [
       "<IPython.core.display.HTML object>"
      ]
     },
     "metadata": {},
     "output_type": "display_data"
    },
    {
     "data": {
      "text/html": [
       "<span style=\"color:cyan\"> |-units_0: 224</span>"
      ],
      "text/plain": [
       "<IPython.core.display.HTML object>"
      ]
     },
     "metadata": {},
     "output_type": "display_data"
    },
    {
     "data": {
      "text/html": [
       "<span style=\"color:blue\"> |-units_1: 352</span>"
      ],
      "text/plain": [
       "<IPython.core.display.HTML object>"
      ]
     },
     "metadata": {},
     "output_type": "display_data"
    },
    {
     "data": {
      "text/html": [
       "<span style=\"color:cyan\"> |-units_2: 128</span>"
      ],
      "text/plain": [
       "<IPython.core.display.HTML object>"
      ]
     },
     "metadata": {},
     "output_type": "display_data"
    },
    {
     "data": {
      "text/html": [
       "<span style=\"color:blue\"> |-units_3: 320</span>"
      ],
      "text/plain": [
       "<IPython.core.display.HTML object>"
      ]
     },
     "metadata": {},
     "output_type": "display_data"
    },
    {
     "data": {
      "text/html": [
       "<span style=\"color:cyan\"> |-units_4: 192</span>"
      ],
      "text/plain": [
       "<IPython.core.display.HTML object>"
      ]
     },
     "metadata": {},
     "output_type": "display_data"
    },
    {
     "data": {
      "text/html": [
       "<span style=\"color:blue\"> |-units_5: 288</span>"
      ],
      "text/plain": [
       "<IPython.core.display.HTML object>"
      ]
     },
     "metadata": {},
     "output_type": "display_data"
    },
    {
     "data": {
      "text/html": [
       "<span style=\"color:cyan\"> |-units_6: 64</span>"
      ],
      "text/plain": [
       "<IPython.core.display.HTML object>"
      ]
     },
     "metadata": {},
     "output_type": "display_data"
    },
    {
     "name": "stdout",
     "output_type": "stream",
     "text": [
      "Epoch 1/5\n",
      "WARNING:tensorflow:Layer dense is casting an input tensor from dtype float64 to the layer's dtype of float32, which is new behavior in TensorFlow 2.  The layer has dtype float32 because it's dtype defaults to floatx.\n",
      "\n",
      "If you intended to run this layer in float32, you can safely ignore this warning. If in doubt, this warning is likely only an issue if you are porting a TensorFlow 1.X model to TensorFlow 2.\n",
      "\n",
      "To change all layers to have dtype float64 by default, call `tf.keras.backend.set_floatx('float64')`. To change just this layer, pass dtype='float64' to the layer constructor. If you are the author of this layer, you can disable autocasting by passing autocast=False to the base Layer constructor.\n",
      "\n",
      "250/250 [==============================] - ETA: 0s - loss: 25.9063 - accuracy: 0.812 - ETA: 0s - loss: 9.4690 - accuracy: 0.658 - ETA: 0s - loss: 5.4378 - accuracy: 0.68 - ETA: 0s - loss: 3.8570 - accuracy: 0.71 - ETA: 0s - loss: 3.0634 - accuracy: 0.73 - ETA: 0s - loss: 2.5634 - accuracy: 0.74 - ETA: 0s - loss: 2.2187 - accuracy: 0.75 - ETA: 0s - loss: 1.9793 - accuracy: 0.76 - ETA: 0s - loss: 1.7792 - accuracy: 0.76 - 2s 6ms/step - loss: 1.7152 - accuracy: 0.7701 - val_loss: 0.5275 - val_accuracy: 0.7975\n",
      "Epoch 2/5\n",
      "250/250 [==============================] - ETA: 0s - loss: 0.5994 - accuracy: 0.71 - ETA: 0s - loss: 0.5285 - accuracy: 0.79 - ETA: 0s - loss: 0.5132 - accuracy: 0.79 - ETA: 0s - loss: 0.5178 - accuracy: 0.79 - ETA: 0s - loss: 0.5153 - accuracy: 0.79 - ETA: 0s - loss: 0.5191 - accuracy: 0.79 - ETA: 0s - loss: 0.5223 - accuracy: 0.79 - ETA: 0s - loss: 0.5218 - accuracy: 0.79 - 0s 2ms/step - loss: 0.5189 - accuracy: 0.7960 - val_loss: 0.5078 - val_accuracy: 0.7975\n",
      "Epoch 3/5\n",
      "250/250 [==============================] - ETA: 0s - loss: 0.4363 - accuracy: 0.84 - ETA: 0s - loss: 0.5191 - accuracy: 0.78 - ETA: 0s - loss: 0.5242 - accuracy: 0.78 - ETA: 0s - loss: 0.5244 - accuracy: 0.79 - ETA: 0s - loss: 0.5304 - accuracy: 0.79 - ETA: 0s - loss: 0.5324 - accuracy: 0.79 - ETA: 0s - loss: 0.5285 - accuracy: 0.79 - ETA: 0s - loss: 0.5241 - accuracy: 0.79 - 0s 2ms/step - loss: 0.5205 - accuracy: 0.7955 - val_loss: 0.5056 - val_accuracy: 0.7975\n",
      "Epoch 4/5\n",
      "250/250 [==============================] - ETA: 0s - loss: 0.6733 - accuracy: 0.68 - ETA: 0s - loss: 0.5027 - accuracy: 0.79 - ETA: 0s - loss: 0.5260 - accuracy: 0.79 - ETA: 0s - loss: 0.5099 - accuracy: 0.80 - ETA: 0s - loss: 0.5171 - accuracy: 0.79 - ETA: 0s - loss: 0.5215 - accuracy: 0.79 - ETA: 0s - loss: 0.5192 - accuracy: 0.79 - ETA: 0s - loss: 0.5158 - accuracy: 0.79 - 0s 2ms/step - loss: 0.5123 - accuracy: 0.7960 - val_loss: 0.5040 - val_accuracy: 0.7975\n",
      "Epoch 5/5\n",
      "250/250 [==============================] - ETA: 0s - loss: 0.5271 - accuracy: 0.78 - ETA: 0s - loss: 0.5044 - accuracy: 0.79 - ETA: 0s - loss: 0.5124 - accuracy: 0.79 - ETA: 0s - loss: 0.5128 - accuracy: 0.79 - ETA: 0s - loss: 0.5141 - accuracy: 0.79 - ETA: 0s - loss: 0.5130 - accuracy: 0.79 - ETA: 0s - loss: 0.5067 - accuracy: 0.79 - ETA: 0s - loss: 0.5054 - accuracy: 0.79 - ETA: 0s - loss: 0.5076 - accuracy: 0.79 - 1s 2ms/step - loss: 0.5064 - accuracy: 0.7960 - val_loss: 0.5039 - val_accuracy: 0.7975\n",
      "Epoch 1/5\n",
      "WARNING:tensorflow:Layer dense is casting an input tensor from dtype float64 to the layer's dtype of float32, which is new behavior in TensorFlow 2.  The layer has dtype float32 because it's dtype defaults to floatx.\n",
      "\n",
      "If you intended to run this layer in float32, you can safely ignore this warning. If in doubt, this warning is likely only an issue if you are porting a TensorFlow 1.X model to TensorFlow 2.\n",
      "\n",
      "To change all layers to have dtype float64 by default, call `tf.keras.backend.set_floatx('float64')`. To change just this layer, pass dtype='float64' to the layer constructor. If you are the author of this layer, you can disable autocasting by passing autocast=False to the base Layer constructor.\n",
      "\n",
      "250/250 [==============================] - ETA: 0s - loss: 12.3575 - accuracy: 0.843 - ETA: 0s - loss: 9.6443 - accuracy: 0.706 - ETA: 0s - loss: 6.0639 - accuracy: 0.69 - ETA: 0s - loss: 4.4297 - accuracy: 0.70 - ETA: 0s - loss: 3.5077 - accuracy: 0.71 - ETA: 0s - loss: 2.9573 - accuracy: 0.72 - ETA: 0s - loss: 2.5707 - accuracy: 0.73 - ETA: 0s - loss: 2.2679 - accuracy: 0.74 - ETA: 0s - loss: 2.0441 - accuracy: 0.75 - 1s 2ms/step - loss: 1.9711 - accuracy: 0.7541 - val_loss: 0.5247 - val_accuracy: 0.7975\n",
      "Epoch 2/5\n",
      "250/250 [==============================] - ETA: 0s - loss: 0.6491 - accuracy: 0.68 - ETA: 0s - loss: 0.5396 - accuracy: 0.79 - ETA: 0s - loss: 0.5242 - accuracy: 0.80 - ETA: 0s - loss: 0.5255 - accuracy: 0.80 - ETA: 0s - loss: 0.5292 - accuracy: 0.80 - ETA: 0s - loss: 0.5330 - accuracy: 0.80 - ETA: 0s - loss: 0.5379 - accuracy: 0.79 - ETA: 0s - loss: 0.5438 - accuracy: 0.79 - 0s 2ms/step - loss: 0.5443 - accuracy: 0.7920 - val_loss: 0.5305 - val_accuracy: 0.7975\n",
      "Epoch 3/5\n",
      "250/250 [==============================] - ETA: 0s - loss: 0.6328 - accuracy: 0.75 - ETA: 0s - loss: 0.5393 - accuracy: 0.78 - ETA: 0s - loss: 0.5310 - accuracy: 0.78 - ETA: 0s - loss: 0.5246 - accuracy: 0.79 - ETA: 0s - loss: 0.5169 - accuracy: 0.79 - ETA: 0s - loss: 0.5208 - accuracy: 0.79 - ETA: 0s - loss: 0.5201 - accuracy: 0.79 - ETA: 0s - loss: 0.5207 - accuracy: 0.79 - 0s 2ms/step - loss: 0.5233 - accuracy: 0.7916 - val_loss: 0.5089 - val_accuracy: 0.7975\n",
      "Epoch 4/5\n",
      "250/250 [==============================] - ETA: 0s - loss: 0.3082 - accuracy: 0.96 - ETA: 0s - loss: 0.5127 - accuracy: 0.79 - ETA: 0s - loss: 0.5039 - accuracy: 0.80 - ETA: 0s - loss: 0.5078 - accuracy: 0.79 - ETA: 0s - loss: 0.5103 - accuracy: 0.79 - ETA: 0s - loss: 0.5071 - accuracy: 0.79 - ETA: 0s - loss: 0.5079 - accuracy: 0.79 - ETA: 0s - loss: 0.5111 - accuracy: 0.79 - 0s 2ms/step - loss: 0.5101 - accuracy: 0.7960 - val_loss: 0.5023 - val_accuracy: 0.7975\n",
      "Epoch 5/5\n",
      "250/250 [==============================] - ETA: 0s - loss: 0.3891 - accuracy: 0.87 - ETA: 0s - loss: 0.4867 - accuracy: 0.80 - ETA: 0s - loss: 0.4951 - accuracy: 0.80 - ETA: 0s - loss: 0.5062 - accuracy: 0.79 - ETA: 0s - loss: 0.5083 - accuracy: 0.79 - ETA: 0s - loss: 0.5103 - accuracy: 0.79 - ETA: 0s - loss: 0.5077 - accuracy: 0.79 - ETA: 0s - loss: 0.5045 - accuracy: 0.79 - 0s 2ms/step - loss: 0.5053 - accuracy: 0.7960 - val_loss: 0.5020 - val_accuracy: 0.7975\n",
      "Epoch 1/5\n",
      "WARNING:tensorflow:Layer dense is casting an input tensor from dtype float64 to the layer's dtype of float32, which is new behavior in TensorFlow 2.  The layer has dtype float32 because it's dtype defaults to floatx.\n",
      "\n",
      "If you intended to run this layer in float32, you can safely ignore this warning. If in doubt, this warning is likely only an issue if you are porting a TensorFlow 1.X model to TensorFlow 2.\n",
      "\n",
      "To change all layers to have dtype float64 by default, call `tf.keras.backend.set_floatx('float64')`. To change just this layer, pass dtype='float64' to the layer constructor. If you are the author of this layer, you can disable autocasting by passing autocast=False to the base Layer constructor.\n",
      "\n",
      "250/250 [==============================] - ETA: 0s - loss: 137.5571 - accuracy: 0.18 - ETA: 0s - loss: 19.7422 - accuracy: 0.6300 - ETA: 0s - loss: 10.4138 - accuracy: 0.676 - ETA: 0s - loss: 7.3189 - accuracy: 0.678 - ETA: 0s - loss: 5.6900 - accuracy: 0.69 - ETA: 0s - loss: 4.7076 - accuracy: 0.69 - ETA: 0s - loss: 4.0495 - accuracy: 0.71 - ETA: 0s - loss: 3.5569 - accuracy: 0.72 - 1s 2ms/step - loss: 3.1969 - accuracy: 0.7324 - val_loss: 0.5505 - val_accuracy: 0.7975\n",
      "Epoch 2/5\n",
      "250/250 [==============================] - ETA: 0s - loss: 0.6138 - accuracy: 0.78 - ETA: 0s - loss: 0.5439 - accuracy: 0.79 - ETA: 0s - loss: 0.6039 - accuracy: 0.76 - ETA: 0s - loss: 0.5941 - accuracy: 0.77 - ETA: 0s - loss: 0.5939 - accuracy: 0.77 - ETA: 0s - loss: 0.6071 - accuracy: 0.77 - ETA: 0s - loss: 0.5938 - accuracy: 0.77 - ETA: 0s - loss: 0.5836 - accuracy: 0.77 - 0s 2ms/step - loss: 0.5762 - accuracy: 0.7791 - val_loss: 0.5129 - val_accuracy: 0.7975\n",
      "Epoch 3/5\n"
     ]
    },
    {
     "name": "stdout",
     "output_type": "stream",
     "text": [
      "250/250 [==============================] - ETA: 0s - loss: 0.5963 - accuracy: 0.75 - ETA: 0s - loss: 0.5357 - accuracy: 0.77 - ETA: 0s - loss: 0.5337 - accuracy: 0.78 - ETA: 0s - loss: 0.5295 - accuracy: 0.78 - ETA: 0s - loss: 0.5218 - accuracy: 0.79 - ETA: 0s - loss: 0.5232 - accuracy: 0.79 - ETA: 0s - loss: 0.5271 - accuracy: 0.78 - ETA: 0s - loss: 0.5253 - accuracy: 0.79 - ETA: 0s - loss: 0.5216 - accuracy: 0.79 - 1s 2ms/step - loss: 0.5201 - accuracy: 0.7949 - val_loss: 0.5190 - val_accuracy: 0.7975\n",
      "Epoch 4/5\n",
      "250/250 [==============================] - ETA: 0s - loss: 0.5834 - accuracy: 0.75 - ETA: 0s - loss: 0.5370 - accuracy: 0.79 - ETA: 0s - loss: 0.5152 - accuracy: 0.79 - ETA: 0s - loss: 0.5555 - accuracy: 0.78 - ETA: 0s - loss: 0.5607 - accuracy: 0.78 - ETA: 0s - loss: 0.5567 - accuracy: 0.78 - ETA: 0s - loss: 0.5495 - accuracy: 0.78 - ETA: 0s - loss: 0.5455 - accuracy: 0.78 - 0s 2ms/step - loss: 0.5399 - accuracy: 0.7886 - val_loss: 0.5127 - val_accuracy: 0.7975\n",
      "Epoch 5/5\n",
      "250/250 [==============================] - ETA: 0s - loss: 0.6680 - accuracy: 0.78 - ETA: 0s - loss: 0.5132 - accuracy: 0.79 - ETA: 0s - loss: 0.5014 - accuracy: 0.80 - ETA: 0s - loss: 0.4961 - accuracy: 0.80 - ETA: 0s - loss: 0.4951 - accuracy: 0.80 - ETA: 0s - loss: 0.5108 - accuracy: 0.79 - ETA: 0s - loss: 0.5149 - accuracy: 0.79 - ETA: 0s - loss: 0.5154 - accuracy: 0.79 - 0s 2ms/step - loss: 0.5140 - accuracy: 0.7959 - val_loss: 0.5133 - val_accuracy: 0.7975\n"
     ]
    },
    {
     "data": {
      "text/html": [
       "<span style=\"color:#4527A0\"><h1 style=\"font-size:18px\">Trial complete</h1></span>"
      ],
      "text/plain": [
       "<IPython.core.display.HTML object>"
      ]
     },
     "metadata": {},
     "output_type": "display_data"
    },
    {
     "data": {
      "text/html": [
       "<span style=\"color:#4527A0\"><h1 style=\"font-size:18px\">Trial summary</h1></span>"
      ],
      "text/plain": [
       "<IPython.core.display.HTML object>"
      ]
     },
     "metadata": {},
     "output_type": "display_data"
    },
    {
     "data": {
      "text/html": [
       "<span style=\"color:cyan\"> |-Trial ID: dba4dbe82c47203b4e91219ac16cdaf5</span>"
      ],
      "text/plain": [
       "<IPython.core.display.HTML object>"
      ]
     },
     "metadata": {},
     "output_type": "display_data"
    },
    {
     "data": {
      "text/html": [
       "<span style=\"color:cyan\"> |-Score: 0.7975000143051147</span>"
      ],
      "text/plain": [
       "<IPython.core.display.HTML object>"
      ]
     },
     "metadata": {},
     "output_type": "display_data"
    },
    {
     "data": {
      "text/html": [
       "<span style=\"color:cyan\"> |-Best step: 0</span>"
      ],
      "text/plain": [
       "<IPython.core.display.HTML object>"
      ]
     },
     "metadata": {},
     "output_type": "display_data"
    },
    {
     "data": {
      "text/html": [
       "<span style=\"color:#7E57C2\"><h2 style=\"font-size:16px\">Hyperparameters:</h2></span>"
      ],
      "text/plain": [
       "<IPython.core.display.HTML object>"
      ]
     },
     "metadata": {},
     "output_type": "display_data"
    },
    {
     "data": {
      "text/html": [
       "<span style=\"color:cyan\"> |-learning_rate: 0.001</span>"
      ],
      "text/plain": [
       "<IPython.core.display.HTML object>"
      ]
     },
     "metadata": {},
     "output_type": "display_data"
    },
    {
     "data": {
      "text/html": [
       "<span style=\"color:blue\"> |-num_layers: 14</span>"
      ],
      "text/plain": [
       "<IPython.core.display.HTML object>"
      ]
     },
     "metadata": {},
     "output_type": "display_data"
    },
    {
     "data": {
      "text/html": [
       "<span style=\"color:cyan\"> |-units_0: 64</span>"
      ],
      "text/plain": [
       "<IPython.core.display.HTML object>"
      ]
     },
     "metadata": {},
     "output_type": "display_data"
    },
    {
     "data": {
      "text/html": [
       "<span style=\"color:blue\"> |-units_1: 96</span>"
      ],
      "text/plain": [
       "<IPython.core.display.HTML object>"
      ]
     },
     "metadata": {},
     "output_type": "display_data"
    },
    {
     "data": {
      "text/html": [
       "<span style=\"color:cyan\"> |-units_10: 32</span>"
      ],
      "text/plain": [
       "<IPython.core.display.HTML object>"
      ]
     },
     "metadata": {},
     "output_type": "display_data"
    },
    {
     "data": {
      "text/html": [
       "<span style=\"color:blue\"> |-units_11: 32</span>"
      ],
      "text/plain": [
       "<IPython.core.display.HTML object>"
      ]
     },
     "metadata": {},
     "output_type": "display_data"
    },
    {
     "data": {
      "text/html": [
       "<span style=\"color:cyan\"> |-units_12: 32</span>"
      ],
      "text/plain": [
       "<IPython.core.display.HTML object>"
      ]
     },
     "metadata": {},
     "output_type": "display_data"
    },
    {
     "data": {
      "text/html": [
       "<span style=\"color:blue\"> |-units_13: 32</span>"
      ],
      "text/plain": [
       "<IPython.core.display.HTML object>"
      ]
     },
     "metadata": {},
     "output_type": "display_data"
    },
    {
     "data": {
      "text/html": [
       "<span style=\"color:cyan\"> |-units_2: 512</span>"
      ],
      "text/plain": [
       "<IPython.core.display.HTML object>"
      ]
     },
     "metadata": {},
     "output_type": "display_data"
    },
    {
     "data": {
      "text/html": [
       "<span style=\"color:blue\"> |-units_3: 384</span>"
      ],
      "text/plain": [
       "<IPython.core.display.HTML object>"
      ]
     },
     "metadata": {},
     "output_type": "display_data"
    },
    {
     "data": {
      "text/html": [
       "<span style=\"color:cyan\"> |-units_4: 256</span>"
      ],
      "text/plain": [
       "<IPython.core.display.HTML object>"
      ]
     },
     "metadata": {},
     "output_type": "display_data"
    },
    {
     "data": {
      "text/html": [
       "<span style=\"color:blue\"> |-units_5: 160</span>"
      ],
      "text/plain": [
       "<IPython.core.display.HTML object>"
      ]
     },
     "metadata": {},
     "output_type": "display_data"
    },
    {
     "data": {
      "text/html": [
       "<span style=\"color:cyan\"> |-units_6: 352</span>"
      ],
      "text/plain": [
       "<IPython.core.display.HTML object>"
      ]
     },
     "metadata": {},
     "output_type": "display_data"
    },
    {
     "data": {
      "text/html": [
       "<span style=\"color:blue\"> |-units_7: 32</span>"
      ],
      "text/plain": [
       "<IPython.core.display.HTML object>"
      ]
     },
     "metadata": {},
     "output_type": "display_data"
    },
    {
     "data": {
      "text/html": [
       "<span style=\"color:cyan\"> |-units_8: 32</span>"
      ],
      "text/plain": [
       "<IPython.core.display.HTML object>"
      ]
     },
     "metadata": {},
     "output_type": "display_data"
    },
    {
     "data": {
      "text/html": [
       "<span style=\"color:blue\"> |-units_9: 32</span>"
      ],
      "text/plain": [
       "<IPython.core.display.HTML object>"
      ]
     },
     "metadata": {},
     "output_type": "display_data"
    },
    {
     "name": "stdout",
     "output_type": "stream",
     "text": [
      "Epoch 1/5\n",
      "WARNING:tensorflow:Layer dense is casting an input tensor from dtype float64 to the layer's dtype of float32, which is new behavior in TensorFlow 2.  The layer has dtype float32 because it's dtype defaults to floatx.\n",
      "\n",
      "If you intended to run this layer in float32, you can safely ignore this warning. If in doubt, this warning is likely only an issue if you are porting a TensorFlow 1.X model to TensorFlow 2.\n",
      "\n",
      "To change all layers to have dtype float64 by default, call `tf.keras.backend.set_floatx('float64')`. To change just this layer, pass dtype='float64' to the layer constructor. If you are the author of this layer, you can disable autocasting by passing autocast=False to the base Layer constructor.\n",
      "\n",
      "250/250 [==============================] - ETA: 0s - loss: 81.6512 - accuracy: 0.812 - ETA: 0s - loss: 24.1686 - accuracy: 0.679 - ETA: 0s - loss: 15.2990 - accuracy: 0.692 - ETA: 0s - loss: 11.7076 - accuracy: 0.683 - ETA: 0s - loss: 9.7838 - accuracy: 0.679 - ETA: 0s - loss: 8.8795 - accuracy: 0.67 - ETA: 0s - loss: 8.0595 - accuracy: 0.68 - 1s 4ms/step - loss: 7.5635 - accuracy: 0.6793 - val_loss: 4.6105 - val_accuracy: 0.7405\n",
      "Epoch 2/5\n",
      "250/250 [==============================] - ETA: 0s - loss: 2.7733 - accuracy: 0.84 - ETA: 0s - loss: 3.1879 - accuracy: 0.68 - ETA: 0s - loss: 3.1038 - accuracy: 0.69 - ETA: 0s - loss: 3.4033 - accuracy: 0.67 - ETA: 0s - loss: 3.2374 - accuracy: 0.67 - ETA: 0s - loss: 3.1131 - accuracy: 0.67 - ETA: 0s - loss: 2.9427 - accuracy: 0.68 - ETA: 0s - loss: 2.8969 - accuracy: 0.67 - 0s 2ms/step - loss: 2.7972 - accuracy: 0.6823 - val_loss: 1.5652 - val_accuracy: 0.6360\n",
      "Epoch 3/5\n",
      "250/250 [==============================] - ETA: 0s - loss: 0.9578 - accuracy: 0.81 - ETA: 0s - loss: 1.7005 - accuracy: 0.67 - ETA: 0s - loss: 1.9613 - accuracy: 0.67 - ETA: 0s - loss: 1.9376 - accuracy: 0.68 - ETA: 0s - loss: 1.8412 - accuracy: 0.68 - ETA: 0s - loss: 1.7489 - accuracy: 0.68 - ETA: 0s - loss: 1.7062 - accuracy: 0.68 - ETA: 0s - loss: 1.6414 - accuracy: 0.68 - 0s 2ms/step - loss: 1.6139 - accuracy: 0.6877 - val_loss: 0.8719 - val_accuracy: 0.7210\n",
      "Epoch 4/5\n",
      "250/250 [==============================] - ETA: 0s - loss: 1.0645 - accuracy: 0.65 - ETA: 0s - loss: 1.2096 - accuracy: 0.67 - ETA: 0s - loss: 1.0211 - accuracy: 0.70 - ETA: 0s - loss: 1.0765 - accuracy: 0.69 - ETA: 0s - loss: 1.1392 - accuracy: 0.70 - ETA: 0s - loss: 1.1564 - accuracy: 0.70 - ETA: 0s - loss: 1.2491 - accuracy: 0.69 - ETA: 0s - loss: 1.2748 - accuracy: 0.69 - 1s 4ms/step - loss: 1.2874 - accuracy: 0.6964 - val_loss: 1.4534 - val_accuracy: 0.7975\n",
      "Epoch 5/5\n",
      "250/250 [==============================] - ETA: 0s - loss: 0.3835 - accuracy: 0.90 - ETA: 0s - loss: 1.2487 - accuracy: 0.70 - ETA: 0s - loss: 1.1665 - accuracy: 0.72 - ETA: 0s - loss: 1.1059 - accuracy: 0.72 - ETA: 0s - loss: 1.0248 - accuracy: 0.72 - ETA: 0s - loss: 1.0309 - accuracy: 0.71 - ETA: 0s - loss: 0.9933 - accuracy: 0.71 - ETA: 0s - loss: 1.0004 - accuracy: 0.71 - 0s 2ms/step - loss: 0.9993 - accuracy: 0.7110 - val_loss: 0.9490 - val_accuracy: 0.7975\n",
      "Epoch 1/5\n",
      "WARNING:tensorflow:Layer dense is casting an input tensor from dtype float64 to the layer's dtype of float32, which is new behavior in TensorFlow 2.  The layer has dtype float32 because it's dtype defaults to floatx.\n",
      "\n",
      "If you intended to run this layer in float32, you can safely ignore this warning. If in doubt, this warning is likely only an issue if you are porting a TensorFlow 1.X model to TensorFlow 2.\n",
      "\n",
      "To change all layers to have dtype float64 by default, call `tf.keras.backend.set_floatx('float64')`. To change just this layer, pass dtype='float64' to the layer constructor. If you are the author of this layer, you can disable autocasting by passing autocast=False to the base Layer constructor.\n",
      "\n",
      "250/250 [==============================] - ETA: 0s - loss: 50.2435 - accuracy: 0.843 - ETA: 0s - loss: 19.1981 - accuracy: 0.691 - ETA: 0s - loss: 12.5945 - accuracy: 0.666 - ETA: 0s - loss: 10.0279 - accuracy: 0.674 - ETA: 0s - loss: 8.6946 - accuracy: 0.684 - ETA: 0s - loss: 8.0144 - accuracy: 0.67 - ETA: 0s - loss: 7.1847 - accuracy: 0.68 - ETA: 0s - loss: 6.6617 - accuracy: 0.68 - 1s 2ms/step - loss: 6.6049 - accuracy: 0.6827 - val_loss: 1.6617 - val_accuracy: 0.5625\n",
      "Epoch 2/5\n",
      "250/250 [==============================] - ETA: 0s - loss: 1.8717 - accuracy: 0.62 - ETA: 0s - loss: 1.8842 - accuracy: 0.69 - ETA: 0s - loss: 1.7450 - accuracy: 0.68 - ETA: 0s - loss: 1.7869 - accuracy: 0.68 - ETA: 0s - loss: 2.0154 - accuracy: 0.68 - ETA: 0s - loss: 2.1153 - accuracy: 0.67 - ETA: 0s - loss: 2.0232 - accuracy: 0.68 - ETA: 0s - loss: 2.0000 - accuracy: 0.68 - 0s 2ms/step - loss: 2.0098 - accuracy: 0.6835 - val_loss: 2.3862 - val_accuracy: 0.5440\n",
      "Epoch 3/5\n",
      "250/250 [==============================] - ETA: 0s - loss: 2.7235 - accuracy: 0.46 - ETA: 0s - loss: 1.8198 - accuracy: 0.68 - ETA: 0s - loss: 1.8131 - accuracy: 0.68 - ETA: 0s - loss: 1.8002 - accuracy: 0.68 - ETA: 0s - loss: 1.6190 - accuracy: 0.69 - ETA: 0s - loss: 1.4950 - accuracy: 0.69 - ETA: 0s - loss: 1.4362 - accuracy: 0.70 - ETA: 0s - loss: 1.4052 - accuracy: 0.69 - 0s 2ms/step - loss: 1.4180 - accuracy: 0.6955 - val_loss: 3.4683 - val_accuracy: 0.7975\n",
      "Epoch 4/5\n",
      "250/250 [==============================] - ETA: 0s - loss: 5.5060 - accuracy: 0.65 - ETA: 0s - loss: 1.6642 - accuracy: 0.64 - ETA: 0s - loss: 1.4790 - accuracy: 0.66 - ETA: 0s - loss: 1.2982 - accuracy: 0.68 - ETA: 0s - loss: 1.2379 - accuracy: 0.68 - ETA: 0s - loss: 1.1203 - accuracy: 0.70 - ETA: 0s - loss: 1.0789 - accuracy: 0.69 - ETA: 0s - loss: 1.0582 - accuracy: 0.70 - 0s 2ms/step - loss: 1.0516 - accuracy: 0.7059 - val_loss: 0.8104 - val_accuracy: 0.5620\n",
      "Epoch 5/5\n",
      "250/250 [==============================] - ETA: 0s - loss: 0.6055 - accuracy: 0.59 - ETA: 0s - loss: 0.7550 - accuracy: 0.72 - ETA: 0s - loss: 0.7843 - accuracy: 0.71 - ETA: 0s - loss: 0.7781 - accuracy: 0.72 - ETA: 0s - loss: 0.8105 - accuracy: 0.71 - ETA: 0s - loss: 0.7782 - accuracy: 0.72 - ETA: 0s - loss: 0.7797 - accuracy: 0.71 - ETA: 0s - loss: 0.7701 - accuracy: 0.72 - 0s 2ms/step - loss: 0.7715 - accuracy: 0.7196 - val_loss: 0.8198 - val_accuracy: 0.7975\n",
      "Epoch 1/5\n",
      "WARNING:tensorflow:Layer dense is casting an input tensor from dtype float64 to the layer's dtype of float32, which is new behavior in TensorFlow 2.  The layer has dtype float32 because it's dtype defaults to floatx.\n",
      "\n",
      "If you intended to run this layer in float32, you can safely ignore this warning. If in doubt, this warning is likely only an issue if you are porting a TensorFlow 1.X model to TensorFlow 2.\n",
      "\n",
      "To change all layers to have dtype float64 by default, call `tf.keras.backend.set_floatx('float64')`. To change just this layer, pass dtype='float64' to the layer constructor. If you are the author of this layer, you can disable autocasting by passing autocast=False to the base Layer constructor.\n",
      "\n",
      "250/250 [==============================] - ETA: 0s - loss: 253.9260 - accuracy: 0.18 - ETA: 0s - loss: 24.2167 - accuracy: 0.6389 - ETA: 0s - loss: 18.3149 - accuracy: 0.651 - ETA: 0s - loss: 13.5158 - accuracy: 0.676 - ETA: 0s - loss: 11.2900 - accuracy: 0.674 - ETA: 0s - loss: 9.9454 - accuracy: 0.669 - ETA: 0s - loss: 9.3405 - accuracy: 0.66 - ETA: 0s - loss: 8.8040 - accuracy: 0.67 - 1s 2ms/step - loss: 8.7374 - accuracy: 0.6706 - val_loss: 3.6910 - val_accuracy: 0.4220\n",
      "Epoch 2/5\n",
      "250/250 [==============================] - ETA: 0s - loss: 4.5300 - accuracy: 0.37 - ETA: 0s - loss: 3.2854 - accuracy: 0.66 - ETA: 0s - loss: 3.0144 - accuracy: 0.67 - ETA: 0s - loss: 2.8325 - accuracy: 0.67 - ETA: 0s - loss: 2.5785 - accuracy: 0.68 - ETA: 0s - loss: 2.5525 - accuracy: 0.67 - ETA: 0s - loss: 2.3701 - accuracy: 0.68 - 0s 2ms/step - loss: 2.2351 - accuracy: 0.6875 - val_loss: 1.1605 - val_accuracy: 0.7960\n",
      "Epoch 3/5\n",
      "250/250 [==============================] - ETA: 0s - loss: 1.8742 - accuracy: 0.75 - ETA: 0s - loss: 1.4243 - accuracy: 0.67 - ETA: 0s - loss: 1.3385 - accuracy: 0.69 - ETA: 0s - loss: 1.3663 - accuracy: 0.70 - ETA: 0s - loss: 1.3587 - accuracy: 0.69 - ETA: 0s - loss: 1.3590 - accuracy: 0.68 - ETA: 0s - loss: 1.3059 - accuracy: 0.69 - ETA: 0s - loss: 1.4104 - accuracy: 0.69 - 0s 2ms/step - loss: 1.4102 - accuracy: 0.6925 - val_loss: 1.1183 - val_accuracy: 0.6560\n"
     ]
    },
    {
     "name": "stdout",
     "output_type": "stream",
     "text": [
      "Epoch 4/5\n",
      "250/250 [==============================] - ETA: 0s - loss: 0.5519 - accuracy: 0.87 - ETA: 0s - loss: 1.5728 - accuracy: 0.68 - ETA: 0s - loss: 1.3307 - accuracy: 0.69 - ETA: 0s - loss: 1.3090 - accuracy: 0.69 - ETA: 0s - loss: 1.3557 - accuracy: 0.68 - ETA: 0s - loss: 1.3118 - accuracy: 0.68 - ETA: 0s - loss: 1.3982 - accuracy: 0.68 - ETA: 0s - loss: 1.3256 - accuracy: 0.69 - 0s 2ms/step - loss: 1.3220 - accuracy: 0.6945 - val_loss: 1.2210 - val_accuracy: 0.7975\n",
      "Epoch 5/5\n",
      "250/250 [==============================] - ETA: 0s - loss: 1.8212 - accuracy: 0.71 - ETA: 0s - loss: 1.3815 - accuracy: 0.66 - ETA: 0s - loss: 1.3309 - accuracy: 0.66 - ETA: 0s - loss: 1.1812 - accuracy: 0.68 - ETA: 0s - loss: 1.1097 - accuracy: 0.69 - ETA: 0s - loss: 1.0619 - accuracy: 0.69 - ETA: 0s - loss: 1.0180 - accuracy: 0.70 - ETA: 0s - loss: 0.9874 - accuracy: 0.70 - 0s 2ms/step - loss: 0.9784 - accuracy: 0.7046 - val_loss: 0.9862 - val_accuracy: 0.7055\n"
     ]
    },
    {
     "data": {
      "text/html": [
       "<span style=\"color:#4527A0\"><h1 style=\"font-size:18px\">Trial complete</h1></span>"
      ],
      "text/plain": [
       "<IPython.core.display.HTML object>"
      ]
     },
     "metadata": {},
     "output_type": "display_data"
    },
    {
     "data": {
      "text/html": [
       "<span style=\"color:#4527A0\"><h1 style=\"font-size:18px\">Trial summary</h1></span>"
      ],
      "text/plain": [
       "<IPython.core.display.HTML object>"
      ]
     },
     "metadata": {},
     "output_type": "display_data"
    },
    {
     "data": {
      "text/html": [
       "<span style=\"color:cyan\"> |-Trial ID: 92e17142b236c67658474648b348d207</span>"
      ],
      "text/plain": [
       "<IPython.core.display.HTML object>"
      ]
     },
     "metadata": {},
     "output_type": "display_data"
    },
    {
     "data": {
      "text/html": [
       "<span style=\"color:cyan\"> |-Score: 0.7975000143051147</span>"
      ],
      "text/plain": [
       "<IPython.core.display.HTML object>"
      ]
     },
     "metadata": {},
     "output_type": "display_data"
    },
    {
     "data": {
      "text/html": [
       "<span style=\"color:cyan\"> |-Best step: 0</span>"
      ],
      "text/plain": [
       "<IPython.core.display.HTML object>"
      ]
     },
     "metadata": {},
     "output_type": "display_data"
    },
    {
     "data": {
      "text/html": [
       "<span style=\"color:#7E57C2\"><h2 style=\"font-size:16px\">Hyperparameters:</h2></span>"
      ],
      "text/plain": [
       "<IPython.core.display.HTML object>"
      ]
     },
     "metadata": {},
     "output_type": "display_data"
    },
    {
     "data": {
      "text/html": [
       "<span style=\"color:cyan\"> |-learning_rate: 0.0001</span>"
      ],
      "text/plain": [
       "<IPython.core.display.HTML object>"
      ]
     },
     "metadata": {},
     "output_type": "display_data"
    },
    {
     "data": {
      "text/html": [
       "<span style=\"color:blue\"> |-num_layers: 10</span>"
      ],
      "text/plain": [
       "<IPython.core.display.HTML object>"
      ]
     },
     "metadata": {},
     "output_type": "display_data"
    },
    {
     "data": {
      "text/html": [
       "<span style=\"color:cyan\"> |-units_0: 320</span>"
      ],
      "text/plain": [
       "<IPython.core.display.HTML object>"
      ]
     },
     "metadata": {},
     "output_type": "display_data"
    },
    {
     "data": {
      "text/html": [
       "<span style=\"color:blue\"> |-units_1: 448</span>"
      ],
      "text/plain": [
       "<IPython.core.display.HTML object>"
      ]
     },
     "metadata": {},
     "output_type": "display_data"
    },
    {
     "data": {
      "text/html": [
       "<span style=\"color:cyan\"> |-units_10: 192</span>"
      ],
      "text/plain": [
       "<IPython.core.display.HTML object>"
      ]
     },
     "metadata": {},
     "output_type": "display_data"
    },
    {
     "data": {
      "text/html": [
       "<span style=\"color:blue\"> |-units_11: 480</span>"
      ],
      "text/plain": [
       "<IPython.core.display.HTML object>"
      ]
     },
     "metadata": {},
     "output_type": "display_data"
    },
    {
     "data": {
      "text/html": [
       "<span style=\"color:cyan\"> |-units_12: 288</span>"
      ],
      "text/plain": [
       "<IPython.core.display.HTML object>"
      ]
     },
     "metadata": {},
     "output_type": "display_data"
    },
    {
     "data": {
      "text/html": [
       "<span style=\"color:blue\"> |-units_13: 320</span>"
      ],
      "text/plain": [
       "<IPython.core.display.HTML object>"
      ]
     },
     "metadata": {},
     "output_type": "display_data"
    },
    {
     "data": {
      "text/html": [
       "<span style=\"color:cyan\"> |-units_2: 192</span>"
      ],
      "text/plain": [
       "<IPython.core.display.HTML object>"
      ]
     },
     "metadata": {},
     "output_type": "display_data"
    },
    {
     "data": {
      "text/html": [
       "<span style=\"color:blue\"> |-units_3: 224</span>"
      ],
      "text/plain": [
       "<IPython.core.display.HTML object>"
      ]
     },
     "metadata": {},
     "output_type": "display_data"
    },
    {
     "data": {
      "text/html": [
       "<span style=\"color:cyan\"> |-units_4: 384</span>"
      ],
      "text/plain": [
       "<IPython.core.display.HTML object>"
      ]
     },
     "metadata": {},
     "output_type": "display_data"
    },
    {
     "data": {
      "text/html": [
       "<span style=\"color:blue\"> |-units_5: 192</span>"
      ],
      "text/plain": [
       "<IPython.core.display.HTML object>"
      ]
     },
     "metadata": {},
     "output_type": "display_data"
    },
    {
     "data": {
      "text/html": [
       "<span style=\"color:cyan\"> |-units_6: 224</span>"
      ],
      "text/plain": [
       "<IPython.core.display.HTML object>"
      ]
     },
     "metadata": {},
     "output_type": "display_data"
    },
    {
     "data": {
      "text/html": [
       "<span style=\"color:blue\"> |-units_7: 96</span>"
      ],
      "text/plain": [
       "<IPython.core.display.HTML object>"
      ]
     },
     "metadata": {},
     "output_type": "display_data"
    },
    {
     "data": {
      "text/html": [
       "<span style=\"color:cyan\"> |-units_8: 352</span>"
      ],
      "text/plain": [
       "<IPython.core.display.HTML object>"
      ]
     },
     "metadata": {},
     "output_type": "display_data"
    },
    {
     "data": {
      "text/html": [
       "<span style=\"color:blue\"> |-units_9: 480</span>"
      ],
      "text/plain": [
       "<IPython.core.display.HTML object>"
      ]
     },
     "metadata": {},
     "output_type": "display_data"
    },
    {
     "name": "stdout",
     "output_type": "stream",
     "text": [
      "INFO:tensorflow:Oracle triggered exit\n"
     ]
    }
   ],
   "source": [
    "tuner.search(X_train, y_train,\n",
    "             epochs=5,\n",
    "             validation_data=(X_test, y_test))"
   ]
  },
  {
   "cell_type": "code",
   "execution_count": 8,
   "metadata": {},
   "outputs": [
    {
     "data": {
      "text/plain": [
       "<bound method BaseTuner.get_best_hyperparameters of <kerastuner.tuners.randomsearch.RandomSearch object at 0x000001CC4A1501C8>>"
      ]
     },
     "execution_count": 8,
     "metadata": {},
     "output_type": "execute_result"
    }
   ],
   "source": [
    "tuner.get_best_hyperparameters"
   ]
  },
  {
   "cell_type": "code",
   "execution_count": 9,
   "metadata": {},
   "outputs": [
    {
     "data": {
      "text/plain": [
       "[<tensorflow.python.keras.engine.sequential.Sequential at 0x1d22fa60a48>]"
      ]
     },
     "execution_count": 9,
     "metadata": {},
     "output_type": "execute_result"
    }
   ],
   "source": [
    "tuner.get_best_models()"
   ]
  },
  {
   "cell_type": "code",
   "execution_count": null,
   "metadata": {},
   "outputs": [],
   "source": []
  }
 ],
 "metadata": {
  "kernelspec": {
   "display_name": "Python 3",
   "language": "python",
   "name": "python3"
  },
  "language_info": {
   "codemirror_mode": {
    "name": "ipython",
    "version": 3
   },
   "file_extension": ".py",
   "mimetype": "text/x-python",
   "name": "python",
   "nbconvert_exporter": "python",
   "pygments_lexer": "ipython3",
   "version": "3.7.7"
  }
 },
 "nbformat": 4,
 "nbformat_minor": 4
}
