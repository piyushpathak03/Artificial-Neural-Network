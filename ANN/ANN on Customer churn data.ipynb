{
 "cells": [
  {
   "cell_type": "markdown",
   "metadata": {},
   "source": [
    "# Artificial Neural Network\n",
    "\n"
   ]
  },
  {
   "cell_type": "markdown",
   "metadata": {},
   "source": [
    "\n",
    "## Part 1 - Data Preprocessing"
   ]
  },
  {
   "cell_type": "code",
   "execution_count": 21,
   "metadata": {},
   "outputs": [],
   "source": [
    "# Importing the libraries\n",
    "import numpy as np\n",
    "import matplotlib.pyplot as plt\n",
    "import pandas as pd"
   ]
  },
  {
   "cell_type": "code",
   "execution_count": 22,
   "metadata": {},
   "outputs": [
    {
     "data": {
      "text/html": [
       "<div>\n",
       "<style scoped>\n",
       "    .dataframe tbody tr th:only-of-type {\n",
       "        vertical-align: middle;\n",
       "    }\n",
       "\n",
       "    .dataframe tbody tr th {\n",
       "        vertical-align: top;\n",
       "    }\n",
       "\n",
       "    .dataframe thead th {\n",
       "        text-align: right;\n",
       "    }\n",
       "</style>\n",
       "<table border=\"1\" class=\"dataframe\">\n",
       "  <thead>\n",
       "    <tr style=\"text-align: right;\">\n",
       "      <th></th>\n",
       "      <th>RowNumber</th>\n",
       "      <th>CustomerId</th>\n",
       "      <th>Surname</th>\n",
       "      <th>CreditScore</th>\n",
       "      <th>Geography</th>\n",
       "      <th>Gender</th>\n",
       "      <th>Age</th>\n",
       "      <th>Tenure</th>\n",
       "      <th>Balance</th>\n",
       "      <th>NumOfProducts</th>\n",
       "      <th>HasCrCard</th>\n",
       "      <th>IsActiveMember</th>\n",
       "      <th>EstimatedSalary</th>\n",
       "      <th>Exited</th>\n",
       "    </tr>\n",
       "  </thead>\n",
       "  <tbody>\n",
       "    <tr>\n",
       "      <th>0</th>\n",
       "      <td>1</td>\n",
       "      <td>15634602</td>\n",
       "      <td>Hargrave</td>\n",
       "      <td>619</td>\n",
       "      <td>France</td>\n",
       "      <td>Female</td>\n",
       "      <td>42</td>\n",
       "      <td>2</td>\n",
       "      <td>0.00</td>\n",
       "      <td>1</td>\n",
       "      <td>1</td>\n",
       "      <td>1</td>\n",
       "      <td>101348.88</td>\n",
       "      <td>1</td>\n",
       "    </tr>\n",
       "    <tr>\n",
       "      <th>1</th>\n",
       "      <td>2</td>\n",
       "      <td>15647311</td>\n",
       "      <td>Hill</td>\n",
       "      <td>608</td>\n",
       "      <td>Spain</td>\n",
       "      <td>Female</td>\n",
       "      <td>41</td>\n",
       "      <td>1</td>\n",
       "      <td>83807.86</td>\n",
       "      <td>1</td>\n",
       "      <td>0</td>\n",
       "      <td>1</td>\n",
       "      <td>112542.58</td>\n",
       "      <td>0</td>\n",
       "    </tr>\n",
       "    <tr>\n",
       "      <th>2</th>\n",
       "      <td>3</td>\n",
       "      <td>15619304</td>\n",
       "      <td>Onio</td>\n",
       "      <td>502</td>\n",
       "      <td>France</td>\n",
       "      <td>Female</td>\n",
       "      <td>42</td>\n",
       "      <td>8</td>\n",
       "      <td>159660.80</td>\n",
       "      <td>3</td>\n",
       "      <td>1</td>\n",
       "      <td>0</td>\n",
       "      <td>113931.57</td>\n",
       "      <td>1</td>\n",
       "    </tr>\n",
       "    <tr>\n",
       "      <th>3</th>\n",
       "      <td>4</td>\n",
       "      <td>15701354</td>\n",
       "      <td>Boni</td>\n",
       "      <td>699</td>\n",
       "      <td>France</td>\n",
       "      <td>Female</td>\n",
       "      <td>39</td>\n",
       "      <td>1</td>\n",
       "      <td>0.00</td>\n",
       "      <td>2</td>\n",
       "      <td>0</td>\n",
       "      <td>0</td>\n",
       "      <td>93826.63</td>\n",
       "      <td>0</td>\n",
       "    </tr>\n",
       "    <tr>\n",
       "      <th>4</th>\n",
       "      <td>5</td>\n",
       "      <td>15737888</td>\n",
       "      <td>Mitchell</td>\n",
       "      <td>850</td>\n",
       "      <td>Spain</td>\n",
       "      <td>Female</td>\n",
       "      <td>43</td>\n",
       "      <td>2</td>\n",
       "      <td>125510.82</td>\n",
       "      <td>1</td>\n",
       "      <td>1</td>\n",
       "      <td>1</td>\n",
       "      <td>79084.10</td>\n",
       "      <td>0</td>\n",
       "    </tr>\n",
       "  </tbody>\n",
       "</table>\n",
       "</div>"
      ],
      "text/plain": [
       "   RowNumber  CustomerId   Surname  CreditScore Geography  Gender  Age  \\\n",
       "0          1    15634602  Hargrave          619    France  Female   42   \n",
       "1          2    15647311      Hill          608     Spain  Female   41   \n",
       "2          3    15619304      Onio          502    France  Female   42   \n",
       "3          4    15701354      Boni          699    France  Female   39   \n",
       "4          5    15737888  Mitchell          850     Spain  Female   43   \n",
       "\n",
       "   Tenure    Balance  NumOfProducts  HasCrCard  IsActiveMember  \\\n",
       "0       2       0.00              1          1               1   \n",
       "1       1   83807.86              1          0               1   \n",
       "2       8  159660.80              3          1               0   \n",
       "3       1       0.00              2          0               0   \n",
       "4       2  125510.82              1          1               1   \n",
       "\n",
       "   EstimatedSalary  Exited  \n",
       "0        101348.88       1  \n",
       "1        112542.58       0  \n",
       "2        113931.57       1  \n",
       "3         93826.63       0  \n",
       "4         79084.10       0  "
      ]
     },
     "execution_count": 22,
     "metadata": {},
     "output_type": "execute_result"
    }
   ],
   "source": [
    "# Importing the dataset\n",
    "data = pd.read_csv('Churn_Modelling.csv')\n",
    "data.head()"
   ]
  },
  {
   "cell_type": "code",
   "execution_count": 23,
   "metadata": {},
   "outputs": [
    {
     "name": "stdout",
     "output_type": "stream",
     "text": [
      "<class 'pandas.core.frame.DataFrame'>\n",
      "RangeIndex: 10000 entries, 0 to 9999\n",
      "Data columns (total 14 columns):\n",
      "RowNumber          10000 non-null int64\n",
      "CustomerId         10000 non-null int64\n",
      "Surname            10000 non-null object\n",
      "CreditScore        10000 non-null int64\n",
      "Geography          10000 non-null object\n",
      "Gender             10000 non-null object\n",
      "Age                10000 non-null int64\n",
      "Tenure             10000 non-null int64\n",
      "Balance            10000 non-null float64\n",
      "NumOfProducts      10000 non-null int64\n",
      "HasCrCard          10000 non-null int64\n",
      "IsActiveMember     10000 non-null int64\n",
      "EstimatedSalary    10000 non-null float64\n",
      "Exited             10000 non-null int64\n",
      "dtypes: float64(2), int64(9), object(3)\n",
      "memory usage: 1.1+ MB\n"
     ]
    }
   ],
   "source": [
    "data.info()"
   ]
  },
  {
   "cell_type": "code",
   "execution_count": 24,
   "metadata": {},
   "outputs": [
    {
     "data": {
      "text/plain": [
       "10000"
      ]
     },
     "execution_count": 24,
     "metadata": {},
     "output_type": "execute_result"
    }
   ],
   "source": [
    "data.CustomerId.nunique()"
   ]
  },
  {
   "cell_type": "code",
   "execution_count": 25,
   "metadata": {},
   "outputs": [
    {
     "data": {
      "text/plain": [
       "RowNumber          0\n",
       "CustomerId         0\n",
       "Surname            0\n",
       "CreditScore        0\n",
       "Geography          0\n",
       "Gender             0\n",
       "Age                0\n",
       "Tenure             0\n",
       "Balance            0\n",
       "NumOfProducts      0\n",
       "HasCrCard          0\n",
       "IsActiveMember     0\n",
       "EstimatedSalary    0\n",
       "Exited             0\n",
       "dtype: int64"
      ]
     },
     "execution_count": 25,
     "metadata": {},
     "output_type": "execute_result"
    }
   ],
   "source": [
    "data.isnull().sum()"
   ]
  },
  {
   "cell_type": "code",
   "execution_count": 26,
   "metadata": {},
   "outputs": [
    {
     "data": {
      "text/html": [
       "<div>\n",
       "<style scoped>\n",
       "    .dataframe tbody tr th:only-of-type {\n",
       "        vertical-align: middle;\n",
       "    }\n",
       "\n",
       "    .dataframe tbody tr th {\n",
       "        vertical-align: top;\n",
       "    }\n",
       "\n",
       "    .dataframe thead th {\n",
       "        text-align: right;\n",
       "    }\n",
       "</style>\n",
       "<table border=\"1\" class=\"dataframe\">\n",
       "  <thead>\n",
       "    <tr style=\"text-align: right;\">\n",
       "      <th></th>\n",
       "      <th>CreditScore</th>\n",
       "      <th>Geography</th>\n",
       "      <th>Gender</th>\n",
       "      <th>Age</th>\n",
       "      <th>Tenure</th>\n",
       "      <th>Balance</th>\n",
       "      <th>NumOfProducts</th>\n",
       "      <th>HasCrCard</th>\n",
       "      <th>IsActiveMember</th>\n",
       "      <th>EstimatedSalary</th>\n",
       "    </tr>\n",
       "  </thead>\n",
       "  <tbody>\n",
       "    <tr>\n",
       "      <th>0</th>\n",
       "      <td>619</td>\n",
       "      <td>France</td>\n",
       "      <td>Female</td>\n",
       "      <td>42</td>\n",
       "      <td>2</td>\n",
       "      <td>0.00</td>\n",
       "      <td>1</td>\n",
       "      <td>1</td>\n",
       "      <td>1</td>\n",
       "      <td>101348.88</td>\n",
       "    </tr>\n",
       "    <tr>\n",
       "      <th>1</th>\n",
       "      <td>608</td>\n",
       "      <td>Spain</td>\n",
       "      <td>Female</td>\n",
       "      <td>41</td>\n",
       "      <td>1</td>\n",
       "      <td>83807.86</td>\n",
       "      <td>1</td>\n",
       "      <td>0</td>\n",
       "      <td>1</td>\n",
       "      <td>112542.58</td>\n",
       "    </tr>\n",
       "    <tr>\n",
       "      <th>2</th>\n",
       "      <td>502</td>\n",
       "      <td>France</td>\n",
       "      <td>Female</td>\n",
       "      <td>42</td>\n",
       "      <td>8</td>\n",
       "      <td>159660.80</td>\n",
       "      <td>3</td>\n",
       "      <td>1</td>\n",
       "      <td>0</td>\n",
       "      <td>113931.57</td>\n",
       "    </tr>\n",
       "    <tr>\n",
       "      <th>3</th>\n",
       "      <td>699</td>\n",
       "      <td>France</td>\n",
       "      <td>Female</td>\n",
       "      <td>39</td>\n",
       "      <td>1</td>\n",
       "      <td>0.00</td>\n",
       "      <td>2</td>\n",
       "      <td>0</td>\n",
       "      <td>0</td>\n",
       "      <td>93826.63</td>\n",
       "    </tr>\n",
       "    <tr>\n",
       "      <th>4</th>\n",
       "      <td>850</td>\n",
       "      <td>Spain</td>\n",
       "      <td>Female</td>\n",
       "      <td>43</td>\n",
       "      <td>2</td>\n",
       "      <td>125510.82</td>\n",
       "      <td>1</td>\n",
       "      <td>1</td>\n",
       "      <td>1</td>\n",
       "      <td>79084.10</td>\n",
       "    </tr>\n",
       "  </tbody>\n",
       "</table>\n",
       "</div>"
      ],
      "text/plain": [
       "   CreditScore Geography  Gender  Age  Tenure    Balance  NumOfProducts  \\\n",
       "0          619    France  Female   42       2       0.00              1   \n",
       "1          608     Spain  Female   41       1   83807.86              1   \n",
       "2          502    France  Female   42       8  159660.80              3   \n",
       "3          699    France  Female   39       1       0.00              2   \n",
       "4          850     Spain  Female   43       2  125510.82              1   \n",
       "\n",
       "   HasCrCard  IsActiveMember  EstimatedSalary  \n",
       "0          1               1        101348.88  \n",
       "1          0               1        112542.58  \n",
       "2          1               0        113931.57  \n",
       "3          0               0         93826.63  \n",
       "4          1               1         79084.10  "
      ]
     },
     "execution_count": 26,
     "metadata": {},
     "output_type": "execute_result"
    }
   ],
   "source": [
    "X = data.iloc[:, 3:13]  ### RowNumber, CustomerId, Surname are unique values and vulnarable for the dataset\n",
    "y = data.iloc[:, 13]\n",
    "X.head()"
   ]
  },
  {
   "cell_type": "code",
   "execution_count": 27,
   "metadata": {},
   "outputs": [
    {
     "data": {
      "text/plain": [
       "0    1\n",
       "1    0\n",
       "2    1\n",
       "3    0\n",
       "4    0\n",
       "Name: Exited, dtype: int64"
      ]
     },
     "execution_count": 27,
     "metadata": {},
     "output_type": "execute_result"
    }
   ],
   "source": [
    "y.head()"
   ]
  },
  {
   "cell_type": "code",
   "execution_count": 28,
   "metadata": {},
   "outputs": [],
   "source": [
    "#Create dummy variables\n",
    "geography=pd.get_dummies(X[\"Geography\"],drop_first=True)\n",
    "gender=pd.get_dummies(X['Gender'],drop_first=True)"
   ]
  },
  {
   "cell_type": "code",
   "execution_count": 29,
   "metadata": {},
   "outputs": [
    {
     "data": {
      "text/html": [
       "<div>\n",
       "<style scoped>\n",
       "    .dataframe tbody tr th:only-of-type {\n",
       "        vertical-align: middle;\n",
       "    }\n",
       "\n",
       "    .dataframe tbody tr th {\n",
       "        vertical-align: top;\n",
       "    }\n",
       "\n",
       "    .dataframe thead th {\n",
       "        text-align: right;\n",
       "    }\n",
       "</style>\n",
       "<table border=\"1\" class=\"dataframe\">\n",
       "  <thead>\n",
       "    <tr style=\"text-align: right;\">\n",
       "      <th></th>\n",
       "      <th>CreditScore</th>\n",
       "      <th>Geography</th>\n",
       "      <th>Gender</th>\n",
       "      <th>Age</th>\n",
       "      <th>Tenure</th>\n",
       "      <th>Balance</th>\n",
       "      <th>NumOfProducts</th>\n",
       "      <th>HasCrCard</th>\n",
       "      <th>IsActiveMember</th>\n",
       "      <th>EstimatedSalary</th>\n",
       "      <th>Germany</th>\n",
       "      <th>Spain</th>\n",
       "      <th>Male</th>\n",
       "    </tr>\n",
       "  </thead>\n",
       "  <tbody>\n",
       "    <tr>\n",
       "      <th>0</th>\n",
       "      <td>619</td>\n",
       "      <td>France</td>\n",
       "      <td>Female</td>\n",
       "      <td>42</td>\n",
       "      <td>2</td>\n",
       "      <td>0.00</td>\n",
       "      <td>1</td>\n",
       "      <td>1</td>\n",
       "      <td>1</td>\n",
       "      <td>101348.88</td>\n",
       "      <td>0</td>\n",
       "      <td>0</td>\n",
       "      <td>0</td>\n",
       "    </tr>\n",
       "    <tr>\n",
       "      <th>1</th>\n",
       "      <td>608</td>\n",
       "      <td>Spain</td>\n",
       "      <td>Female</td>\n",
       "      <td>41</td>\n",
       "      <td>1</td>\n",
       "      <td>83807.86</td>\n",
       "      <td>1</td>\n",
       "      <td>0</td>\n",
       "      <td>1</td>\n",
       "      <td>112542.58</td>\n",
       "      <td>0</td>\n",
       "      <td>1</td>\n",
       "      <td>0</td>\n",
       "    </tr>\n",
       "    <tr>\n",
       "      <th>2</th>\n",
       "      <td>502</td>\n",
       "      <td>France</td>\n",
       "      <td>Female</td>\n",
       "      <td>42</td>\n",
       "      <td>8</td>\n",
       "      <td>159660.80</td>\n",
       "      <td>3</td>\n",
       "      <td>1</td>\n",
       "      <td>0</td>\n",
       "      <td>113931.57</td>\n",
       "      <td>0</td>\n",
       "      <td>0</td>\n",
       "      <td>0</td>\n",
       "    </tr>\n",
       "    <tr>\n",
       "      <th>3</th>\n",
       "      <td>699</td>\n",
       "      <td>France</td>\n",
       "      <td>Female</td>\n",
       "      <td>39</td>\n",
       "      <td>1</td>\n",
       "      <td>0.00</td>\n",
       "      <td>2</td>\n",
       "      <td>0</td>\n",
       "      <td>0</td>\n",
       "      <td>93826.63</td>\n",
       "      <td>0</td>\n",
       "      <td>0</td>\n",
       "      <td>0</td>\n",
       "    </tr>\n",
       "    <tr>\n",
       "      <th>4</th>\n",
       "      <td>850</td>\n",
       "      <td>Spain</td>\n",
       "      <td>Female</td>\n",
       "      <td>43</td>\n",
       "      <td>2</td>\n",
       "      <td>125510.82</td>\n",
       "      <td>1</td>\n",
       "      <td>1</td>\n",
       "      <td>1</td>\n",
       "      <td>79084.10</td>\n",
       "      <td>0</td>\n",
       "      <td>1</td>\n",
       "      <td>0</td>\n",
       "    </tr>\n",
       "  </tbody>\n",
       "</table>\n",
       "</div>"
      ],
      "text/plain": [
       "   CreditScore Geography  Gender  Age  Tenure    Balance  NumOfProducts  \\\n",
       "0          619    France  Female   42       2       0.00              1   \n",
       "1          608     Spain  Female   41       1   83807.86              1   \n",
       "2          502    France  Female   42       8  159660.80              3   \n",
       "3          699    France  Female   39       1       0.00              2   \n",
       "4          850     Spain  Female   43       2  125510.82              1   \n",
       "\n",
       "   HasCrCard  IsActiveMember  EstimatedSalary  Germany  Spain  Male  \n",
       "0          1               1        101348.88        0      0     0  \n",
       "1          0               1        112542.58        0      1     0  \n",
       "2          1               0        113931.57        0      0     0  \n",
       "3          0               0         93826.63        0      0     0  \n",
       "4          1               1         79084.10        0      1     0  "
      ]
     },
     "execution_count": 29,
     "metadata": {},
     "output_type": "execute_result"
    }
   ],
   "source": [
    "## Concatenate the Data Frames\n",
    "\n",
    "X=pd.concat([X,geography,gender],axis=1)\n",
    "X.head()"
   ]
  },
  {
   "cell_type": "code",
   "execution_count": 30,
   "metadata": {},
   "outputs": [],
   "source": [
    "## Drop Unnecessary columns\n",
    "X=X.drop(['Geography','Gender'],axis=1)\n"
   ]
  },
  {
   "cell_type": "code",
   "execution_count": 31,
   "metadata": {},
   "outputs": [],
   "source": [
    "# Splitting the dataset into the Training set and Test set\n",
    "from sklearn.model_selection import train_test_split\n",
    "X_train, X_test, y_train, y_test = train_test_split(X, y, test_size = 0.2, random_state = 0)"
   ]
  },
  {
   "cell_type": "code",
   "execution_count": 32,
   "metadata": {},
   "outputs": [],
   "source": [
    "# Feature Scaling\n",
    "from sklearn.preprocessing import StandardScaler\n",
    "sc = StandardScaler()\n",
    "X_train = sc.fit_transform(X_train)\n",
    "X_test = sc.transform(X_test)"
   ]
  },
  {
   "cell_type": "markdown",
   "metadata": {},
   "source": [
    "## Part 2 - Now let's make the ANN!"
   ]
  },
  {
   "cell_type": "code",
   "execution_count": 33,
   "metadata": {},
   "outputs": [
    {
     "name": "stderr",
     "output_type": "stream",
     "text": [
      "Using TensorFlow backend.\n"
     ]
    }
   ],
   "source": [
    "# Importing the Keras libraries and packages\n",
    "import keras\n",
    "from keras.models import Sequential\n",
    "from keras.layers import Dense           #A dense layer is just a regular layer of neurons in a neural network.Each neuron recieves input from all the neurons in the previous layer, thus densely connected. The layer has a weight matrix W, a bias vector b, and the activations of previous layer a\n",
    "from keras.layers import LeakyReLU,PReLU,ELU          #Activation functions\n",
    "from keras.layers import Dropout        #Regularization parameter"
   ]
  },
  {
   "cell_type": "code",
   "execution_count": 34,
   "metadata": {},
   "outputs": [],
   "source": [
    "# Initialising the ANN\n",
    "classifier = Sequential()"
   ]
  },
  {
   "cell_type": "code",
   "execution_count": 51,
   "metadata": {},
   "outputs": [],
   "source": [
    "# Adding the input layer and the first hidden layer\n",
    "classifier.add(Dense(input_dim = 11, kernel_initializer = 'he_uniform',activation='relu',units = 6))\n",
    "      #11 input features connected to the input layer, initialization parameter, activation functions, first hidden layer consist 6 neurons\n",
    "           #as in xtrain 11 features are there           #how weights are initialized\n",
    "         ## always equal to the input features   \n",
    "            \n",
    "# Adding the second hidden layer\n",
    "classifier.add(Dense( kernel_initializer = 'he_uniform',activation='relu',units = 6))\n",
    "                                                                          # second hidden layer consist 6 neurons\n",
    "\n",
    "# Adding the output layer\n",
    "classifier.add(Dense( kernel_initializer = 'glorot_uniform', activation = 'sigmoid',units = 1))\n",
    "                      #glorot_uniform ,    sigmoid activation only suitable in output layer, output layer consist 1 neurons \n",
    "                    #      initialization used in output layer                                     coz of binary classification problem"
   ]
  },
  {
   "cell_type": "code",
   "execution_count": 52,
   "metadata": {},
   "outputs": [
    {
     "name": "stdout",
     "output_type": "stream",
     "text": [
      "Model: \"sequential_1\"\n",
      "_________________________________________________________________\n",
      "Layer (type)                 Output Shape              Param #   \n",
      "=================================================================\n",
      "dense_1 (Dense)              (None, 6)                 72        \n",
      "_________________________________________________________________\n",
      "dense_2 (Dense)              (None, 6)                 42        \n",
      "_________________________________________________________________\n",
      "dense_3 (Dense)              (None, 1)                 7         \n",
      "_________________________________________________________________\n",
      "dense_4 (Dense)              (None, 6)                 12        \n",
      "_________________________________________________________________\n",
      "dense_5 (Dense)              (None, 6)                 42        \n",
      "_________________________________________________________________\n",
      "dense_6 (Dense)              (None, 1)                 7         \n",
      "_________________________________________________________________\n",
      "dense_7 (Dense)              (None, 6)                 12        \n",
      "_________________________________________________________________\n",
      "dense_8 (Dense)              (None, 6)                 42        \n",
      "_________________________________________________________________\n",
      "dense_9 (Dense)              (None, 1)                 7         \n",
      "_________________________________________________________________\n",
      "dense_10 (Dense)             (None, 6)                 12        \n",
      "_________________________________________________________________\n",
      "dense_11 (Dense)             (None, 6)                 42        \n",
      "_________________________________________________________________\n",
      "dense_12 (Dense)             (None, 1)                 7         \n",
      "_________________________________________________________________\n",
      "dense_13 (Dense)             (None, 6)                 12        \n",
      "_________________________________________________________________\n",
      "dense_14 (Dense)             (None, 6)                 42        \n",
      "_________________________________________________________________\n",
      "dense_15 (Dense)             (None, 1)                 7         \n",
      "=================================================================\n",
      "Total params: 121\n",
      "Trainable params: 121\n",
      "Non-trainable params: 0\n",
      "_________________________________________________________________\n"
     ]
    },
    {
     "name": "stderr",
     "output_type": "stream",
     "text": [
      "C:\\Users\\hp\\Anaconda3\\lib\\site-packages\\keras\\engine\\training.py:297: UserWarning: Discrepancy between trainable weights and collected trainable weights, did you set `model.trainable` without calling `model.compile` after ?\n",
      "  'Discrepancy between trainable weights and collected trainable'\n"
     ]
    }
   ],
   "source": [
    "classifier.summary()"
   ]
  },
  {
   "cell_type": "code",
   "execution_count": 49,
   "metadata": {},
   "outputs": [],
   "source": [
    "#### With he_uniform and he_normal , the ReLU activation function works well \n",
    "### while glorot_uniform works well with sigmoid activation function which is used in output layer"
   ]
  },
  {
   "cell_type": "code",
   "execution_count": 36,
   "metadata": {},
   "outputs": [],
   "source": [
    "# Compiling the ANN\n",
    "classifier.compile(optimizer = 'Adamax', loss = 'binary_crossentropy', metrics = ['accuracy'])\n",
    "                 #optimizer             loss function                  performance metrics\n",
    "                                        #binary_crossentropy best for binary classification problem"
   ]
  },
  {
   "cell_type": "code",
   "execution_count": 37,
   "metadata": {},
   "outputs": [
    {
     "name": "stdout",
     "output_type": "stream",
     "text": [
      "WARNING:tensorflow:From C:\\Users\\hp\\Anaconda3\\lib\\site-packages\\tensorflow\\python\\ops\\math_ops.py:3066: to_int32 (from tensorflow.python.ops.math_ops) is deprecated and will be removed in a future version.\n",
      "Instructions for updating:\n",
      "Use tf.cast instead.\n"
     ]
    },
    {
     "name": "stderr",
     "output_type": "stream",
     "text": [
      "C:\\Users\\hp\\Anaconda3\\lib\\site-packages\\ipykernel_launcher.py:2: UserWarning: The `nb_epoch` argument in `fit` has been renamed `epochs`.\n",
      "  \n"
     ]
    },
    {
     "name": "stdout",
     "output_type": "stream",
     "text": [
      "Train on 5359 samples, validate on 2641 samples\n",
      "Epoch 1/100\n",
      "5359/5359 [==============================] - 1s 199us/step - loss: 0.6826 - accuracy: 0.6303 - val_loss: 0.5503 - val_accuracy: 0.7948\n",
      "Epoch 2/100\n",
      "5359/5359 [==============================] - 1s 112us/step - loss: 0.5108 - accuracy: 0.8076 - val_loss: 0.4884 - val_accuracy: 0.8080\n",
      "Epoch 3/100\n",
      "5359/5359 [==============================] - 1s 107us/step - loss: 0.4634 - accuracy: 0.8158 - val_loss: 0.4576 - val_accuracy: 0.8179\n",
      "Epoch 4/100\n",
      "5359/5359 [==============================] - 1s 110us/step - loss: 0.4355 - accuracy: 0.8233 - val_loss: 0.4393 - val_accuracy: 0.8201\n",
      "Epoch 5/100\n",
      "5359/5359 [==============================] - 1s 108us/step - loss: 0.4168 - accuracy: 0.8319 - val_loss: 0.4258 - val_accuracy: 0.8277\n",
      "Epoch 6/100\n",
      "5359/5359 [==============================] - 1s 108us/step - loss: 0.4019 - accuracy: 0.8373 - val_loss: 0.4145 - val_accuracy: 0.8281\n",
      "Epoch 7/100\n",
      "5359/5359 [==============================] - 1s 109us/step - loss: 0.3908 - accuracy: 0.8425 - val_loss: 0.4056 - val_accuracy: 0.8300\n",
      "Epoch 8/100\n",
      "5359/5359 [==============================] - 1s 114us/step - loss: 0.3822 - accuracy: 0.8451 - val_loss: 0.3986 - val_accuracy: 0.8345\n",
      "Epoch 9/100\n",
      "5359/5359 [==============================] - 1s 135us/step - loss: 0.3755 - accuracy: 0.8464 - val_loss: 0.3929 - val_accuracy: 0.8364\n",
      "Epoch 10/100\n",
      "5359/5359 [==============================] - 1s 141us/step - loss: 0.3703 - accuracy: 0.8515 - val_loss: 0.3882 - val_accuracy: 0.8391\n",
      "Epoch 11/100\n",
      "5359/5359 [==============================] - 1s 128us/step - loss: 0.3655 - accuracy: 0.8518 - val_loss: 0.3836 - val_accuracy: 0.8406\n",
      "Epoch 12/100\n",
      "5359/5359 [==============================] - 1s 111us/step - loss: 0.3621 - accuracy: 0.8539 - val_loss: 0.3801 - val_accuracy: 0.8440\n",
      "Epoch 13/100\n",
      "5359/5359 [==============================] - 1s 110us/step - loss: 0.3591 - accuracy: 0.8556 - val_loss: 0.3776 - val_accuracy: 0.8451\n",
      "Epoch 14/100\n",
      "5359/5359 [==============================] - 1s 122us/step - loss: 0.3565 - accuracy: 0.8600 - val_loss: 0.3755 - val_accuracy: 0.8459\n",
      "Epoch 15/100\n",
      "5359/5359 [==============================] - 1s 219us/step - loss: 0.3546 - accuracy: 0.8576 - val_loss: 0.3737 - val_accuracy: 0.8470\n",
      "Epoch 16/100\n",
      "5359/5359 [==============================] - 1s 143us/step - loss: 0.3527 - accuracy: 0.8589 - val_loss: 0.3723 - val_accuracy: 0.8482\n",
      "Epoch 17/100\n",
      "5359/5359 [==============================] - 1s 115us/step - loss: 0.3509 - accuracy: 0.8584 - val_loss: 0.3710 - val_accuracy: 0.8497\n",
      "Epoch 18/100\n",
      "5359/5359 [==============================] - 1s 138us/step - loss: 0.3496 - accuracy: 0.8597 - val_loss: 0.3699 - val_accuracy: 0.8478\n",
      "Epoch 19/100\n",
      "5359/5359 [==============================] - 1s 142us/step - loss: 0.3482 - accuracy: 0.8589 - val_loss: 0.3695 - val_accuracy: 0.8485\n",
      "Epoch 20/100\n",
      "5359/5359 [==============================] - 1s 148us/step - loss: 0.3475 - accuracy: 0.8602 - val_loss: 0.3686 - val_accuracy: 0.8512\n",
      "Epoch 21/100\n",
      "5359/5359 [==============================] - 1s 137us/step - loss: 0.3467 - accuracy: 0.8591 - val_loss: 0.3680 - val_accuracy: 0.8516\n",
      "Epoch 22/100\n",
      "5359/5359 [==============================] - 1s 117us/step - loss: 0.3457 - accuracy: 0.8600 - val_loss: 0.3675 - val_accuracy: 0.8501\n",
      "Epoch 23/100\n",
      "5359/5359 [==============================] - 1s 113us/step - loss: 0.3450 - accuracy: 0.8595 - val_loss: 0.3670 - val_accuracy: 0.8508\n",
      "Epoch 24/100\n",
      "5359/5359 [==============================] - 1s 117us/step - loss: 0.3444 - accuracy: 0.8593 - val_loss: 0.3665 - val_accuracy: 0.8523\n",
      "Epoch 25/100\n",
      "5359/5359 [==============================] - 1s 126us/step - loss: 0.3439 - accuracy: 0.8600 - val_loss: 0.3660 - val_accuracy: 0.8535\n",
      "Epoch 26/100\n",
      "5359/5359 [==============================] - 1s 113us/step - loss: 0.3430 - accuracy: 0.8621 - val_loss: 0.3664 - val_accuracy: 0.8516\n",
      "Epoch 27/100\n",
      "5359/5359 [==============================] - 1s 115us/step - loss: 0.3431 - accuracy: 0.8604 - val_loss: 0.3656 - val_accuracy: 0.8531\n",
      "Epoch 28/100\n",
      "5359/5359 [==============================] - 1s 135us/step - loss: 0.3424 - accuracy: 0.8615 - val_loss: 0.3655 - val_accuracy: 0.8516\n",
      "Epoch 29/100\n",
      "5359/5359 [==============================] - 1s 119us/step - loss: 0.3423 - accuracy: 0.8621 - val_loss: 0.3653 - val_accuracy: 0.8527\n",
      "Epoch 30/100\n",
      "5359/5359 [==============================] - 1s 119us/step - loss: 0.3415 - accuracy: 0.8614 - val_loss: 0.3652 - val_accuracy: 0.8516\n",
      "Epoch 31/100\n",
      "5359/5359 [==============================] - 1s 116us/step - loss: 0.3408 - accuracy: 0.8621 - val_loss: 0.3643 - val_accuracy: 0.8516\n",
      "Epoch 32/100\n",
      "5359/5359 [==============================] - 1s 118us/step - loss: 0.3405 - accuracy: 0.8632 - val_loss: 0.3639 - val_accuracy: 0.8527\n",
      "Epoch 33/100\n",
      "5359/5359 [==============================] - 1s 116us/step - loss: 0.3399 - accuracy: 0.8614 - val_loss: 0.3647 - val_accuracy: 0.8538\n",
      "Epoch 34/100\n",
      "5359/5359 [==============================] - 1s 159us/step - loss: 0.3394 - accuracy: 0.8630 - val_loss: 0.3634 - val_accuracy: 0.8523\n",
      "Epoch 35/100\n",
      "5359/5359 [==============================] - 1s 159us/step - loss: 0.3391 - accuracy: 0.8615 - val_loss: 0.3630 - val_accuracy: 0.8508\n",
      "Epoch 36/100\n",
      "5359/5359 [==============================] - 1s 124us/step - loss: 0.3389 - accuracy: 0.8604 - val_loss: 0.3625 - val_accuracy: 0.8531\n",
      "Epoch 37/100\n",
      "5359/5359 [==============================] - 1s 150us/step - loss: 0.3387 - accuracy: 0.8617 - val_loss: 0.3626 - val_accuracy: 0.8519\n",
      "Epoch 38/100\n",
      "5359/5359 [==============================] - 1s 190us/step - loss: 0.3381 - accuracy: 0.8638 - val_loss: 0.3622 - val_accuracy: 0.8508\n",
      "Epoch 39/100\n",
      "5359/5359 [==============================] - 1s 189us/step - loss: 0.3379 - accuracy: 0.8614 - val_loss: 0.3618 - val_accuracy: 0.8516\n",
      "Epoch 40/100\n",
      "5359/5359 [==============================] - 1s 181us/step - loss: 0.3376 - accuracy: 0.8621 - val_loss: 0.3615 - val_accuracy: 0.8516\n",
      "Epoch 41/100\n",
      "5359/5359 [==============================] - 1s 125us/step - loss: 0.3372 - accuracy: 0.8636 - val_loss: 0.3617 - val_accuracy: 0.8523\n",
      "Epoch 42/100\n",
      "5359/5359 [==============================] - 1s 113us/step - loss: 0.3372 - accuracy: 0.8619 - val_loss: 0.3619 - val_accuracy: 0.8523\n",
      "Epoch 43/100\n",
      "5359/5359 [==============================] - 1s 117us/step - loss: 0.3369 - accuracy: 0.8628 - val_loss: 0.3611 - val_accuracy: 0.8531\n",
      "Epoch 44/100\n",
      "5359/5359 [==============================] - 1s 116us/step - loss: 0.3368 - accuracy: 0.8634 - val_loss: 0.3608 - val_accuracy: 0.8516\n",
      "Epoch 45/100\n",
      "5359/5359 [==============================] - 1s 121us/step - loss: 0.3364 - accuracy: 0.8606 - val_loss: 0.3607 - val_accuracy: 0.8527\n",
      "Epoch 46/100\n",
      "5359/5359 [==============================] - 1s 119us/step - loss: 0.3361 - accuracy: 0.8604 - val_loss: 0.3600 - val_accuracy: 0.8527\n",
      "Epoch 47/100\n",
      "5359/5359 [==============================] - 1s 114us/step - loss: 0.3362 - accuracy: 0.8642 - val_loss: 0.3601 - val_accuracy: 0.8531\n",
      "Epoch 48/100\n",
      "5359/5359 [==============================] - 1s 111us/step - loss: 0.3358 - accuracy: 0.8625 - val_loss: 0.3617 - val_accuracy: 0.8516\n",
      "Epoch 49/100\n",
      "5359/5359 [==============================] - 1s 114us/step - loss: 0.3356 - accuracy: 0.8612 - val_loss: 0.3602 - val_accuracy: 0.8523\n",
      "Epoch 50/100\n",
      "5359/5359 [==============================] - 1s 117us/step - loss: 0.3356 - accuracy: 0.8647 - val_loss: 0.3599 - val_accuracy: 0.8508\n",
      "Epoch 51/100\n",
      "5359/5359 [==============================] - 1s 125us/step - loss: 0.3353 - accuracy: 0.8647 - val_loss: 0.3612 - val_accuracy: 0.8538\n",
      "Epoch 52/100\n",
      "5359/5359 [==============================] - 1s 177us/step - loss: 0.3350 - accuracy: 0.8643 - val_loss: 0.3605 - val_accuracy: 0.8523\n",
      "Epoch 53/100\n",
      "5359/5359 [==============================] - 1s 114us/step - loss: 0.3349 - accuracy: 0.8617 - val_loss: 0.3593 - val_accuracy: 0.8538\n",
      "Epoch 54/100\n",
      "5359/5359 [==============================] - 1s 115us/step - loss: 0.3349 - accuracy: 0.8621 - val_loss: 0.3597 - val_accuracy: 0.8531\n",
      "Epoch 55/100\n",
      "5359/5359 [==============================] - 1s 110us/step - loss: 0.3349 - accuracy: 0.8623 - val_loss: 0.3601 - val_accuracy: 0.8512\n",
      "Epoch 56/100\n"
     ]
    },
    {
     "name": "stdout",
     "output_type": "stream",
     "text": [
      "5359/5359 [==============================] - 1s 132us/step - loss: 0.3344 - accuracy: 0.8647 - val_loss: 0.3600 - val_accuracy: 0.8542\n",
      "Epoch 57/100\n",
      "5359/5359 [==============================] - 1s 111us/step - loss: 0.3344 - accuracy: 0.8643 - val_loss: 0.3606 - val_accuracy: 0.8519\n",
      "Epoch 58/100\n",
      "5359/5359 [==============================] - 1s 114us/step - loss: 0.3344 - accuracy: 0.8630 - val_loss: 0.3601 - val_accuracy: 0.8523\n",
      "Epoch 59/100\n",
      "5359/5359 [==============================] - 1s 121us/step - loss: 0.3345 - accuracy: 0.8634 - val_loss: 0.3595 - val_accuracy: 0.8531\n",
      "Epoch 60/100\n",
      "5359/5359 [==============================] - 1s 160us/step - loss: 0.3343 - accuracy: 0.8643 - val_loss: 0.3595 - val_accuracy: 0.8546\n",
      "Epoch 61/100\n",
      "5359/5359 [==============================] - 1s 148us/step - loss: 0.3341 - accuracy: 0.8638 - val_loss: 0.3591 - val_accuracy: 0.8538\n",
      "Epoch 62/100\n",
      "5359/5359 [==============================] - 1s 113us/step - loss: 0.3341 - accuracy: 0.8636 - val_loss: 0.3595 - val_accuracy: 0.8523\n",
      "Epoch 63/100\n",
      "5359/5359 [==============================] - 1s 148us/step - loss: 0.3340 - accuracy: 0.8653 - val_loss: 0.3592 - val_accuracy: 0.8535\n",
      "Epoch 64/100\n",
      "5359/5359 [==============================] - 1s 132us/step - loss: 0.3338 - accuracy: 0.8632 - val_loss: 0.3591 - val_accuracy: 0.8538\n",
      "Epoch 65/100\n",
      "5359/5359 [==============================] - 1s 114us/step - loss: 0.3340 - accuracy: 0.8662 - val_loss: 0.3596 - val_accuracy: 0.8519\n",
      "Epoch 66/100\n",
      "5359/5359 [==============================] - 1s 116us/step - loss: 0.3339 - accuracy: 0.8623 - val_loss: 0.3598 - val_accuracy: 0.8531\n",
      "Epoch 67/100\n",
      "5359/5359 [==============================] - 1s 113us/step - loss: 0.3338 - accuracy: 0.8642 - val_loss: 0.3596 - val_accuracy: 0.8535\n",
      "Epoch 68/100\n",
      "5359/5359 [==============================] - 1s 109us/step - loss: 0.3339 - accuracy: 0.8623 - val_loss: 0.3596 - val_accuracy: 0.8519\n",
      "Epoch 69/100\n",
      "5359/5359 [==============================] - 1s 108us/step - loss: 0.3335 - accuracy: 0.8653 - val_loss: 0.3593 - val_accuracy: 0.8504\n",
      "Epoch 70/100\n",
      "5359/5359 [==============================] - 1s 106us/step - loss: 0.3335 - accuracy: 0.8647 - val_loss: 0.3595 - val_accuracy: 0.8542\n",
      "Epoch 71/100\n",
      "5359/5359 [==============================] - 1s 112us/step - loss: 0.3336 - accuracy: 0.8651 - val_loss: 0.3595 - val_accuracy: 0.8519\n",
      "Epoch 72/100\n",
      "5359/5359 [==============================] - 1s 112us/step - loss: 0.3332 - accuracy: 0.8640 - val_loss: 0.3593 - val_accuracy: 0.8519\n",
      "Epoch 73/100\n",
      "5359/5359 [==============================] - 1s 106us/step - loss: 0.3332 - accuracy: 0.8636 - val_loss: 0.3585 - val_accuracy: 0.8531\n",
      "Epoch 74/100\n",
      "5359/5359 [==============================] - 1s 108us/step - loss: 0.3333 - accuracy: 0.8628 - val_loss: 0.3596 - val_accuracy: 0.8519\n",
      "Epoch 75/100\n",
      "5359/5359 [==============================] - 1s 111us/step - loss: 0.3330 - accuracy: 0.8640 - val_loss: 0.3596 - val_accuracy: 0.8523\n",
      "Epoch 76/100\n",
      "5359/5359 [==============================] - 1s 108us/step - loss: 0.3329 - accuracy: 0.8647 - val_loss: 0.3588 - val_accuracy: 0.8527\n",
      "Epoch 77/100\n",
      "5359/5359 [==============================] - 1s 108us/step - loss: 0.3332 - accuracy: 0.8615 - val_loss: 0.3588 - val_accuracy: 0.8550\n",
      "Epoch 78/100\n",
      "5359/5359 [==============================] - 1s 115us/step - loss: 0.3327 - accuracy: 0.8640 - val_loss: 0.3587 - val_accuracy: 0.8538\n",
      "Epoch 79/100\n",
      "5359/5359 [==============================] - 1s 123us/step - loss: 0.3329 - accuracy: 0.8651 - val_loss: 0.3585 - val_accuracy: 0.8542\n",
      "Epoch 80/100\n",
      "5359/5359 [==============================] - 1s 112us/step - loss: 0.3326 - accuracy: 0.8653 - val_loss: 0.3582 - val_accuracy: 0.8527\n",
      "Epoch 81/100\n",
      "5359/5359 [==============================] - 1s 123us/step - loss: 0.3324 - accuracy: 0.8660 - val_loss: 0.3584 - val_accuracy: 0.8519\n",
      "Epoch 82/100\n",
      "5359/5359 [==============================] - 1s 111us/step - loss: 0.3326 - accuracy: 0.8645 - val_loss: 0.3579 - val_accuracy: 0.8538\n",
      "Epoch 83/100\n",
      "5359/5359 [==============================] - 1s 111us/step - loss: 0.3323 - accuracy: 0.8640 - val_loss: 0.3586 - val_accuracy: 0.8557\n",
      "Epoch 84/100\n",
      "5359/5359 [==============================] - 1s 164us/step - loss: 0.3329 - accuracy: 0.8642 - val_loss: 0.3582 - val_accuracy: 0.8542\n",
      "Epoch 85/100\n",
      "5359/5359 [==============================] - 1s 232us/step - loss: 0.3323 - accuracy: 0.8638 - val_loss: 0.3577 - val_accuracy: 0.8531\n",
      "Epoch 86/100\n",
      "5359/5359 [==============================] - 1s 226us/step - loss: 0.3323 - accuracy: 0.8636 - val_loss: 0.3580 - val_accuracy: 0.8535\n",
      "Epoch 87/100\n",
      "5359/5359 [==============================] - 1s 175us/step - loss: 0.3321 - accuracy: 0.8638 - val_loss: 0.3579 - val_accuracy: 0.8523\n",
      "Epoch 88/100\n",
      "5359/5359 [==============================] - 1s 173us/step - loss: 0.3320 - accuracy: 0.8640 - val_loss: 0.3583 - val_accuracy: 0.8519\n",
      "Epoch 89/100\n",
      "5359/5359 [==============================] - 1s 134us/step - loss: 0.3322 - accuracy: 0.8647 - val_loss: 0.3581 - val_accuracy: 0.8523\n",
      "Epoch 90/100\n",
      "5359/5359 [==============================] - 1s 122us/step - loss: 0.3320 - accuracy: 0.8647 - val_loss: 0.3582 - val_accuracy: 0.8508\n",
      "Epoch 91/100\n",
      "5359/5359 [==============================] - 1s 113us/step - loss: 0.3316 - accuracy: 0.8655 - val_loss: 0.3580 - val_accuracy: 0.8508\n",
      "Epoch 92/100\n",
      "5359/5359 [==============================] - 1s 109us/step - loss: 0.3317 - accuracy: 0.8634 - val_loss: 0.3576 - val_accuracy: 0.8531\n",
      "Epoch 93/100\n",
      "5359/5359 [==============================] - 1s 110us/step - loss: 0.3316 - accuracy: 0.8651 - val_loss: 0.3582 - val_accuracy: 0.8523\n",
      "Epoch 94/100\n",
      "5359/5359 [==============================] - 1s 112us/step - loss: 0.3317 - accuracy: 0.8643 - val_loss: 0.3585 - val_accuracy: 0.8565\n",
      "Epoch 95/100\n",
      "5359/5359 [==============================] - 1s 115us/step - loss: 0.3317 - accuracy: 0.8649 - val_loss: 0.3580 - val_accuracy: 0.8519\n",
      "Epoch 96/100\n",
      "5359/5359 [==============================] - 1s 116us/step - loss: 0.3315 - accuracy: 0.8642 - val_loss: 0.3578 - val_accuracy: 0.8535\n",
      "Epoch 97/100\n",
      "5359/5359 [==============================] - 1s 122us/step - loss: 0.3317 - accuracy: 0.8656 - val_loss: 0.3577 - val_accuracy: 0.8512\n",
      "Epoch 98/100\n",
      "5359/5359 [==============================] - 1s 113us/step - loss: 0.3313 - accuracy: 0.8642 - val_loss: 0.3570 - val_accuracy: 0.8519\n",
      "Epoch 99/100\n",
      "5359/5359 [==============================] - 1s 113us/step - loss: 0.3310 - accuracy: 0.8645 - val_loss: 0.3568 - val_accuracy: 0.8504\n",
      "Epoch 100/100\n",
      "5359/5359 [==============================] - 1s 114us/step - loss: 0.3315 - accuracy: 0.8634 - val_loss: 0.3570 - val_accuracy: 0.8523\n"
     ]
    }
   ],
   "source": [
    "# Fitting the ANN to the Training set\n",
    "model_history=classifier.fit(X_train, y_train,validation_split=0.33, batch_size = 10, nb_epoch = 100)\n",
    "                                                             ## batch size used for minimize computation power as it will convert n data points into k batches"
   ]
  },
  {
   "cell_type": "code",
   "execution_count": 40,
   "metadata": {},
   "outputs": [
    {
     "name": "stdout",
     "output_type": "stream",
     "text": [
      "dict_keys(['val_loss', 'val_accuracy', 'loss', 'accuracy'])\n"
     ]
    },
    {
     "data": {
      "image/png": "[encoded data removed]",
      "text/plain": [
       "<Figure size 432x288 with 1 Axes>"
      ]
     },
     "metadata": {
      "needs_background": "light"
     },
     "output_type": "display_data"
    }
   ],
   "source": [
    "# list all data in history\n",
    "\n",
    "print(model_history.history.keys())\n",
    "# summarize history for accuracy\n",
    "plt.plot(model_history.history['accuracy'])\n",
    "plt.plot(model_history.history['val_accuracy'])\n",
    "plt.title('model accuracy')\n",
    "plt.ylabel('accuracy')\n",
    "plt.xlabel('epoch')\n",
    "plt.legend(['train', 'test'], loc='upper left')\n",
    "plt.show()"
   ]
  },
  {
   "cell_type": "code",
   "execution_count": 41,
   "metadata": {},
   "outputs": [
    {
     "data": {
      "image/png": "[encoded data removed]",
      "text/plain": [
       "<Figure size 432x288 with 1 Axes>"
      ]
     },
     "metadata": {
      "needs_background": "light"
     },
     "output_type": "display_data"
    }
   ],
   "source": [
    "# summarize history for loss\n",
    "plt.plot(model_history.history['loss'])\n",
    "plt.plot(model_history.history['val_loss'])\n",
    "plt.title('model loss')\n",
    "plt.ylabel('loss')\n",
    "plt.xlabel('epoch')\n",
    "plt.legend(['train', 'test'], loc='upper left')\n",
    "plt.show()"
   ]
  },
  {
   "cell_type": "markdown",
   "metadata": {},
   "source": [
    "## Part 3 - Making the predictions and evaluating the model"
   ]
  },
  {
   "cell_type": "code",
   "execution_count": 53,
   "metadata": {},
   "outputs": [
    {
     "data": {
      "text/plain": [
       "array([[False],\n",
       "       [False],\n",
       "       [False],\n",
       "       ...,\n",
       "       [False],\n",
       "       [False],\n",
       "       [False]])"
      ]
     },
     "execution_count": 53,
     "metadata": {},
     "output_type": "execute_result"
    }
   ],
   "source": [
    "# Predicting the Test set results\n",
    "y_pred = classifier.predict(X_test)\n",
    "y_pred = (y_pred > 0.5)\n",
    "y_pred"
   ]
  },
  {
   "cell_type": "code",
   "execution_count": 46,
   "metadata": {},
   "outputs": [
    {
     "data": {
      "text/plain": [
       "array([[1517,   78],\n",
       "       [ 201,  204]], dtype=int64)"
      ]
     },
     "execution_count": 46,
     "metadata": {},
     "output_type": "execute_result"
    }
   ],
   "source": [
    "# Making the Confusion Matrix\n",
    "from sklearn.metrics import confusion_matrix\n",
    "cm = confusion_matrix(y_test, y_pred)\n",
    "cm"
   ]
  },
  {
   "cell_type": "code",
   "execution_count": 45,
   "metadata": {},
   "outputs": [
    {
     "data": {
      "text/plain": [
       "0.8605"
      ]
     },
     "execution_count": 45,
     "metadata": {},
     "output_type": "execute_result"
    }
   ],
   "source": [
    "# Calculate the Accuracy\n",
    "from sklearn.metrics import accuracy_score\n",
    "score=accuracy_score(y_pred,y_test)\n",
    "score"
   ]
  },
  {
   "cell_type": "code",
   "execution_count": 54,
   "metadata": {},
   "outputs": [],
   "source": [
    "### we get good training and testing accuracy so we don't make model overfitted."
   ]
  },
  {
   "cell_type": "code",
   "execution_count": null,
   "metadata": {},
   "outputs": [],
   "source": []
  },
  {
   "cell_type": "markdown",
   "metadata": {},
   "source": [
    "## Add dropout and make new classifier with multiple permutaion combination to check accuracy"
   ]
  },
  {
   "cell_type": "code",
   "execution_count": 55,
   "metadata": {},
   "outputs": [],
   "source": [
    "# Initialising the ANN\n",
    "classifier1 = Sequential()\n",
    "\n",
    "\n",
    "\n",
    "# Adding the input layer and the first hidden layer\n",
    "classifier1.add(Dense(input_dim = 11, kernel_initializer = 'he_uniform',activation='relu',units = 8))\n",
    "classifier1.add(Dropout(0.3))      #add random dropout rate in layers as a regularization parameters    \n",
    "            \n",
    "# Adding the second hidden layer\n",
    "classifier1.add(Dense( kernel_initializer = 'he_normal',activation='relu',units = 7))\n",
    "classifier1.add(Dropout(0.4)) \n",
    "\n",
    "# Adding the third hidden layer\n",
    "classifier1.add(Dense( kernel_initializer = 'he_normal',activation='relu',units = 6))\n",
    "classifier1.add(Dropout(0.2)) \n",
    "                                                                         \n",
    "\n",
    "# Adding the output layer\n",
    "classifier1.add(Dense( kernel_initializer = 'glorot_uniform', activation = 'sigmoid',units = 1))\n",
    "                                                  "
   ]
  },
  {
   "cell_type": "code",
   "execution_count": 56,
   "metadata": {},
   "outputs": [
    {
     "name": "stdout",
     "output_type": "stream",
     "text": [
      "Model: \"sequential_2\"\n",
      "_________________________________________________________________\n",
      "Layer (type)                 Output Shape              Param #   \n",
      "=================================================================\n",
      "dense_16 (Dense)             (None, 8)                 96        \n",
      "_________________________________________________________________\n",
      "dropout_1 (Dropout)          (None, 8)                 0         \n",
      "_________________________________________________________________\n",
      "dense_17 (Dense)             (None, 7)                 63        \n",
      "_________________________________________________________________\n",
      "dropout_2 (Dropout)          (None, 7)                 0         \n",
      "_________________________________________________________________\n",
      "dense_18 (Dense)             (None, 6)                 48        \n",
      "_________________________________________________________________\n",
      "dropout_3 (Dropout)          (None, 6)                 0         \n",
      "_________________________________________________________________\n",
      "dense_19 (Dense)             (None, 1)                 7         \n",
      "=================================================================\n",
      "Total params: 214\n",
      "Trainable params: 214\n",
      "Non-trainable params: 0\n",
      "_________________________________________________________________\n"
     ]
    }
   ],
   "source": [
    "classifier1.summary()"
   ]
  },
  {
   "cell_type": "code",
   "execution_count": 57,
   "metadata": {},
   "outputs": [],
   "source": [
    "# Compiling the ANN\n",
    "classifier1.compile(optimizer = 'Adam', loss = 'binary_crossentropy', metrics = ['accuracy'])\n",
    "                 #optimizer             loss function                  performance metrics\n",
    "                                        #binary_crossentropy best for binary classification problem"
   ]
  },
  {
   "cell_type": "code",
   "execution_count": 58,
   "metadata": {},
   "outputs": [
    {
     "name": "stderr",
     "output_type": "stream",
     "text": [
      "C:\\Users\\hp\\Anaconda3\\lib\\site-packages\\ipykernel_launcher.py:2: UserWarning: The `nb_epoch` argument in `fit` has been renamed `epochs`.\n",
      "  \n"
     ]
    },
    {
     "name": "stdout",
     "output_type": "stream",
     "text": [
      "Train on 5359 samples, validate on 2641 samples\n",
      "Epoch 1/100\n",
      "5359/5359 [==============================] - 1s 245us/step - loss: 0.7766 - accuracy: 0.6621 - val_loss: 0.5294 - val_accuracy: 0.7955\n",
      "Epoch 2/100\n",
      "5359/5359 [==============================] - 1s 215us/step - loss: 0.5600 - accuracy: 0.7761 - val_loss: 0.5068 - val_accuracy: 0.7955\n",
      "Epoch 3/100\n",
      "5359/5359 [==============================] - 1s 207us/step - loss: 0.5222 - accuracy: 0.7873 - val_loss: 0.4961 - val_accuracy: 0.7955\n",
      "Epoch 4/100\n",
      "5359/5359 [==============================] - 1s 201us/step - loss: 0.5054 - accuracy: 0.7936 - val_loss: 0.4832 - val_accuracy: 0.7955\n",
      "Epoch 5/100\n",
      "5359/5359 [==============================] - 1s 234us/step - loss: 0.5000 - accuracy: 0.7953 - val_loss: 0.4748 - val_accuracy: 0.7955\n",
      "Epoch 6/100\n",
      "5359/5359 [==============================] - 1s 189us/step - loss: 0.4894 - accuracy: 0.7964 - val_loss: 0.4638 - val_accuracy: 0.7955\n",
      "Epoch 7/100\n",
      "5359/5359 [==============================] - 1s 176us/step - loss: 0.4744 - accuracy: 0.8001 - val_loss: 0.4477 - val_accuracy: 0.7963\n",
      "Epoch 8/100\n",
      "5359/5359 [==============================] - 1s 154us/step - loss: 0.4703 - accuracy: 0.8046 - val_loss: 0.4411 - val_accuracy: 0.7978\n",
      "Epoch 9/100\n",
      "5359/5359 [==============================] - 1s 149us/step - loss: 0.4596 - accuracy: 0.8022 - val_loss: 0.4378 - val_accuracy: 0.7959\n",
      "Epoch 10/100\n",
      "5359/5359 [==============================] - 1s 165us/step - loss: 0.4657 - accuracy: 0.8048 - val_loss: 0.4384 - val_accuracy: 0.7963\n",
      "Epoch 11/100\n",
      "5359/5359 [==============================] - 1s 166us/step - loss: 0.4602 - accuracy: 0.8108 - val_loss: 0.4327 - val_accuracy: 0.7970\n",
      "Epoch 12/100\n",
      "5359/5359 [==============================] - 1s 225us/step - loss: 0.4592 - accuracy: 0.8074 - val_loss: 0.4305 - val_accuracy: 0.7963\n",
      "Epoch 13/100\n",
      "5359/5359 [==============================] - 1s 173us/step - loss: 0.4533 - accuracy: 0.8099 - val_loss: 0.4257 - val_accuracy: 0.7970\n",
      "Epoch 14/100\n",
      "5359/5359 [==============================] - 1s 152us/step - loss: 0.4509 - accuracy: 0.8119 - val_loss: 0.4256 - val_accuracy: 0.7967\n",
      "Epoch 15/100\n",
      "5359/5359 [==============================] - 1s 151us/step - loss: 0.4467 - accuracy: 0.8128 - val_loss: 0.4203 - val_accuracy: 0.8008\n",
      "Epoch 16/100\n",
      "5359/5359 [==============================] - 1s 150us/step - loss: 0.4466 - accuracy: 0.8108 - val_loss: 0.4235 - val_accuracy: 0.7997\n",
      "Epoch 17/100\n",
      "5359/5359 [==============================] - 1s 194us/step - loss: 0.4320 - accuracy: 0.8156 - val_loss: 0.4210 - val_accuracy: 0.8020\n",
      "Epoch 18/100\n",
      "5359/5359 [==============================] - 1s 144us/step - loss: 0.4296 - accuracy: 0.8160 - val_loss: 0.4143 - val_accuracy: 0.8054\n",
      "Epoch 19/100\n",
      "5359/5359 [==============================] - 1s 147us/step - loss: 0.4216 - accuracy: 0.8246 - val_loss: 0.4068 - val_accuracy: 0.8073\n",
      "Epoch 20/100\n",
      "5359/5359 [==============================] - 1s 143us/step - loss: 0.4215 - accuracy: 0.8199 - val_loss: 0.4064 - val_accuracy: 0.8088\n",
      "Epoch 21/100\n",
      "5359/5359 [==============================] - 1s 138us/step - loss: 0.4155 - accuracy: 0.8220 - val_loss: 0.3968 - val_accuracy: 0.8209\n",
      "Epoch 22/100\n",
      "5359/5359 [==============================] - 1s 173us/step - loss: 0.4164 - accuracy: 0.8214 - val_loss: 0.4021 - val_accuracy: 0.8167\n",
      "Epoch 23/100\n",
      "5359/5359 [==============================] - 1s 254us/step - loss: 0.4160 - accuracy: 0.8242 - val_loss: 0.4003 - val_accuracy: 0.8179\n",
      "Epoch 24/100\n",
      "5359/5359 [==============================] - 1s 239us/step - loss: 0.4144 - accuracy: 0.8259 - val_loss: 0.3988 - val_accuracy: 0.8194\n",
      "Epoch 25/100\n",
      "5359/5359 [==============================] - 1s 213us/step - loss: 0.4115 - accuracy: 0.8229 - val_loss: 0.3931 - val_accuracy: 0.8270\n",
      "Epoch 26/100\n",
      "5359/5359 [==============================] - 1s 146us/step - loss: 0.4129 - accuracy: 0.8263 - val_loss: 0.3951 - val_accuracy: 0.8217\n",
      "Epoch 27/100\n",
      "5359/5359 [==============================] - 1s 144us/step - loss: 0.4071 - accuracy: 0.8296 - val_loss: 0.3889 - val_accuracy: 0.8292\n",
      "Epoch 28/100\n",
      "5359/5359 [==============================] - 1s 138us/step - loss: 0.4118 - accuracy: 0.8285 - val_loss: 0.3873 - val_accuracy: 0.8285\n",
      "Epoch 29/100\n",
      "5359/5359 [==============================] - 1s 137us/step - loss: 0.4076 - accuracy: 0.8227 - val_loss: 0.3919 - val_accuracy: 0.8247\n",
      "Epoch 30/100\n",
      "5359/5359 [==============================] - 1s 140us/step - loss: 0.4014 - accuracy: 0.8336 - val_loss: 0.3828 - val_accuracy: 0.8349\n",
      "Epoch 31/100\n",
      "5359/5359 [==============================] - 1s 162us/step - loss: 0.4039 - accuracy: 0.8308 - val_loss: 0.3909 - val_accuracy: 0.8243\n",
      "Epoch 32/100\n",
      "5359/5359 [==============================] - 1s 209us/step - loss: 0.4059 - accuracy: 0.8276 - val_loss: 0.3838 - val_accuracy: 0.8326\n",
      "Epoch 33/100\n",
      "5359/5359 [==============================] - 1s 182us/step - loss: 0.3954 - accuracy: 0.8371 - val_loss: 0.3826 - val_accuracy: 0.8349\n",
      "Epoch 34/100\n",
      "5359/5359 [==============================] - 1s 168us/step - loss: 0.4011 - accuracy: 0.8306 - val_loss: 0.3941 - val_accuracy: 0.8175\n",
      "Epoch 35/100\n",
      "5359/5359 [==============================] - 1s 188us/step - loss: 0.3972 - accuracy: 0.8332 - val_loss: 0.3850 - val_accuracy: 0.8277\n",
      "Epoch 36/100\n",
      "5359/5359 [==============================] - 1s 182us/step - loss: 0.4039 - accuracy: 0.8336 - val_loss: 0.3875 - val_accuracy: 0.8273\n",
      "Epoch 37/100\n",
      "5359/5359 [==============================] - 1s 178us/step - loss: 0.4043 - accuracy: 0.8309 - val_loss: 0.3830 - val_accuracy: 0.8334\n",
      "Epoch 38/100\n",
      "5359/5359 [==============================] - 1s 176us/step - loss: 0.4056 - accuracy: 0.8326 - val_loss: 0.3965 - val_accuracy: 0.8164\n",
      "Epoch 39/100\n",
      "5359/5359 [==============================] - 1s 217us/step - loss: 0.3927 - accuracy: 0.8401 - val_loss: 0.3886 - val_accuracy: 0.8232\n",
      "Epoch 40/100\n",
      "5359/5359 [==============================] - 1s 184us/step - loss: 0.3990 - accuracy: 0.8362 - val_loss: 0.3877 - val_accuracy: 0.8243\n",
      "Epoch 41/100\n",
      "5359/5359 [==============================] - 1s 167us/step - loss: 0.4127 - accuracy: 0.8283 - val_loss: 0.3909 - val_accuracy: 0.8217\n",
      "Epoch 42/100\n",
      "5359/5359 [==============================] - 1s 188us/step - loss: 0.4047 - accuracy: 0.8280 - val_loss: 0.3870 - val_accuracy: 0.8247\n",
      "Epoch 43/100\n",
      "5359/5359 [==============================] - 1s 150us/step - loss: 0.3938 - accuracy: 0.8360 - val_loss: 0.3884 - val_accuracy: 0.8217\n",
      "Epoch 44/100\n",
      "5359/5359 [==============================] - 1s 156us/step - loss: 0.4035 - accuracy: 0.8322 - val_loss: 0.3906 - val_accuracy: 0.8217\n",
      "Epoch 45/100\n",
      "5359/5359 [==============================] - 1s 147us/step - loss: 0.3981 - accuracy: 0.8308 - val_loss: 0.3848 - val_accuracy: 0.8273\n",
      "Epoch 46/100\n",
      "5359/5359 [==============================] - 1s 144us/step - loss: 0.4083 - accuracy: 0.8285 - val_loss: 0.3930 - val_accuracy: 0.8198\n",
      "Epoch 47/100\n",
      "5359/5359 [==============================] - 1s 146us/step - loss: 0.3991 - accuracy: 0.8350 - val_loss: 0.3847 - val_accuracy: 0.8296\n",
      "Epoch 48/100\n",
      "5359/5359 [==============================] - 1s 143us/step - loss: 0.3969 - accuracy: 0.8339 - val_loss: 0.3898 - val_accuracy: 0.8213\n",
      "Epoch 49/100\n",
      "5359/5359 [==============================] - 1s 145us/step - loss: 0.4042 - accuracy: 0.8330 - val_loss: 0.3903 - val_accuracy: 0.8239\n",
      "Epoch 50/100\n",
      "5359/5359 [==============================] - 1s 168us/step - loss: 0.3985 - accuracy: 0.8352 - val_loss: 0.3921 - val_accuracy: 0.8220\n",
      "Epoch 51/100\n",
      "5359/5359 [==============================] - 1s 171us/step - loss: 0.3957 - accuracy: 0.8321 - val_loss: 0.3917 - val_accuracy: 0.8194\n",
      "Epoch 52/100\n",
      "5359/5359 [==============================] - 1s 160us/step - loss: 0.3899 - accuracy: 0.8412 - val_loss: 0.3858 - val_accuracy: 0.8258\n",
      "Epoch 53/100\n",
      "5359/5359 [==============================] - 1s 147us/step - loss: 0.3969 - accuracy: 0.8384 - val_loss: 0.3864 - val_accuracy: 0.8251\n",
      "Epoch 54/100\n",
      "5359/5359 [==============================] - 1s 148us/step - loss: 0.3945 - accuracy: 0.8365 - val_loss: 0.3844 - val_accuracy: 0.8243\n",
      "Epoch 55/100\n",
      "5359/5359 [==============================] - 1s 145us/step - loss: 0.3991 - accuracy: 0.8317 - val_loss: 0.3876 - val_accuracy: 0.8236\n",
      "Epoch 56/100\n"
     ]
    },
    {
     "name": "stdout",
     "output_type": "stream",
     "text": [
      "5359/5359 [==============================] - 1s 139us/step - loss: 0.4018 - accuracy: 0.8315 - val_loss: 0.3882 - val_accuracy: 0.8243\n",
      "Epoch 57/100\n",
      "5359/5359 [==============================] - 1s 159us/step - loss: 0.3909 - accuracy: 0.8397 - val_loss: 0.3870 - val_accuracy: 0.8247\n",
      "Epoch 58/100\n",
      "5359/5359 [==============================] - 1s 187us/step - loss: 0.4023 - accuracy: 0.8345 - val_loss: 0.3867 - val_accuracy: 0.8247\n",
      "Epoch 59/100\n",
      "5359/5359 [==============================] - 1s 145us/step - loss: 0.3973 - accuracy: 0.8367 - val_loss: 0.3875 - val_accuracy: 0.8213\n",
      "Epoch 60/100\n",
      "5359/5359 [==============================] - 1s 146us/step - loss: 0.4005 - accuracy: 0.8356 - val_loss: 0.3931 - val_accuracy: 0.8171\n",
      "Epoch 61/100\n",
      "5359/5359 [==============================] - 1s 161us/step - loss: 0.3957 - accuracy: 0.8369 - val_loss: 0.3818 - val_accuracy: 0.8311\n",
      "Epoch 62/100\n",
      "5359/5359 [==============================] - 1s 143us/step - loss: 0.3930 - accuracy: 0.8393 - val_loss: 0.3770 - val_accuracy: 0.8376\n",
      "Epoch 63/100\n",
      "5359/5359 [==============================] - 1s 139us/step - loss: 0.3880 - accuracy: 0.8378 - val_loss: 0.3824 - val_accuracy: 0.8300\n",
      "Epoch 64/100\n",
      "5359/5359 [==============================] - 1s 141us/step - loss: 0.3999 - accuracy: 0.8339 - val_loss: 0.3880 - val_accuracy: 0.8236\n",
      "Epoch 65/100\n",
      "5359/5359 [==============================] - 1s 138us/step - loss: 0.3968 - accuracy: 0.8375 - val_loss: 0.3853 - val_accuracy: 0.8247\n",
      "Epoch 66/100\n",
      "5359/5359 [==============================] - 1s 141us/step - loss: 0.3918 - accuracy: 0.8380 - val_loss: 0.3896 - val_accuracy: 0.8171\n",
      "Epoch 67/100\n",
      "5359/5359 [==============================] - 1s 138us/step - loss: 0.3966 - accuracy: 0.8293 - val_loss: 0.3834 - val_accuracy: 0.8281\n",
      "Epoch 68/100\n",
      "5359/5359 [==============================] - 1s 140us/step - loss: 0.3958 - accuracy: 0.8311 - val_loss: 0.3842 - val_accuracy: 0.8228\n",
      "Epoch 69/100\n",
      "5359/5359 [==============================] - 1s 138us/step - loss: 0.3928 - accuracy: 0.8367 - val_loss: 0.3832 - val_accuracy: 0.8285\n",
      "Epoch 70/100\n",
      "5359/5359 [==============================] - 1s 140us/step - loss: 0.3961 - accuracy: 0.8345 - val_loss: 0.3834 - val_accuracy: 0.8285\n",
      "Epoch 71/100\n",
      "5359/5359 [==============================] - 1s 138us/step - loss: 0.4003 - accuracy: 0.8371 - val_loss: 0.3840 - val_accuracy: 0.8251\n",
      "Epoch 72/100\n",
      "5359/5359 [==============================] - 1s 147us/step - loss: 0.3915 - accuracy: 0.8418 - val_loss: 0.3840 - val_accuracy: 0.8258\n",
      "Epoch 73/100\n",
      "5359/5359 [==============================] - 1s 142us/step - loss: 0.3896 - accuracy: 0.8350 - val_loss: 0.3869 - val_accuracy: 0.8243\n",
      "Epoch 74/100\n",
      "5359/5359 [==============================] - 1s 146us/step - loss: 0.3922 - accuracy: 0.8350 - val_loss: 0.3849 - val_accuracy: 0.8251\n",
      "Epoch 75/100\n",
      "5359/5359 [==============================] - 1s 141us/step - loss: 0.3977 - accuracy: 0.8332 - val_loss: 0.3824 - val_accuracy: 0.8296\n",
      "Epoch 76/100\n",
      "5359/5359 [==============================] - 1s 145us/step - loss: 0.3894 - accuracy: 0.8391 - val_loss: 0.3829 - val_accuracy: 0.8262\n",
      "Epoch 77/100\n",
      "5359/5359 [==============================] - 1s 142us/step - loss: 0.3941 - accuracy: 0.8365 - val_loss: 0.3905 - val_accuracy: 0.8179\n",
      "Epoch 78/100\n",
      "5359/5359 [==============================] - 1s 183us/step - loss: 0.3912 - accuracy: 0.8401 - val_loss: 0.3783 - val_accuracy: 0.8330\n",
      "Epoch 79/100\n",
      "5359/5359 [==============================] - 1s 168us/step - loss: 0.3970 - accuracy: 0.8367 - val_loss: 0.3865 - val_accuracy: 0.8266\n",
      "Epoch 80/100\n",
      "5359/5359 [==============================] - 1s 141us/step - loss: 0.3948 - accuracy: 0.8386 - val_loss: 0.3865 - val_accuracy: 0.8243\n",
      "Epoch 81/100\n",
      "5359/5359 [==============================] - 1s 167us/step - loss: 0.3915 - accuracy: 0.8349 - val_loss: 0.3847 - val_accuracy: 0.8270\n",
      "Epoch 82/100\n",
      "5359/5359 [==============================] - 1s 143us/step - loss: 0.3944 - accuracy: 0.8364 - val_loss: 0.3871 - val_accuracy: 0.8262\n",
      "Epoch 83/100\n",
      "5359/5359 [==============================] - 1s 153us/step - loss: 0.3908 - accuracy: 0.8390 - val_loss: 0.3863 - val_accuracy: 0.8262\n",
      "Epoch 84/100\n",
      "5359/5359 [==============================] - 1s 144us/step - loss: 0.3965 - accuracy: 0.8354 - val_loss: 0.3828 - val_accuracy: 0.8307\n",
      "Epoch 85/100\n",
      "5359/5359 [==============================] - 1s 140us/step - loss: 0.3936 - accuracy: 0.8364 - val_loss: 0.3870 - val_accuracy: 0.8251\n",
      "Epoch 86/100\n",
      "5359/5359 [==============================] - 1s 138us/step - loss: 0.3944 - accuracy: 0.8356 - val_loss: 0.3869 - val_accuracy: 0.8247\n",
      "Epoch 87/100\n",
      "5359/5359 [==============================] - 1s 138us/step - loss: 0.3913 - accuracy: 0.8397 - val_loss: 0.3852 - val_accuracy: 0.8266\n",
      "Epoch 88/100\n",
      "5359/5359 [==============================] - 1s 138us/step - loss: 0.3916 - accuracy: 0.8365 - val_loss: 0.3811 - val_accuracy: 0.8315\n",
      "Epoch 89/100\n",
      "5359/5359 [==============================] - 1s 142us/step - loss: 0.3854 - accuracy: 0.8395 - val_loss: 0.3832 - val_accuracy: 0.8277\n",
      "Epoch 90/100\n",
      "5359/5359 [==============================] - 1s 142us/step - loss: 0.4028 - accuracy: 0.8304 - val_loss: 0.3859 - val_accuracy: 0.8292\n",
      "Epoch 91/100\n",
      "5359/5359 [==============================] - 1s 139us/step - loss: 0.3918 - accuracy: 0.8386 - val_loss: 0.3819 - val_accuracy: 0.8311\n",
      "Epoch 92/100\n",
      "5359/5359 [==============================] - 1s 140us/step - loss: 0.4021 - accuracy: 0.8360 - val_loss: 0.3858 - val_accuracy: 0.8285\n",
      "Epoch 93/100\n",
      "5359/5359 [==============================] - 1s 139us/step - loss: 0.3908 - accuracy: 0.8377 - val_loss: 0.3858 - val_accuracy: 0.8292\n",
      "Epoch 94/100\n",
      "5359/5359 [==============================] - ETA: 0s - loss: 0.3913 - accuracy: 0.83 - 1s 139us/step - loss: 0.3942 - accuracy: 0.8356 - val_loss: 0.3851 - val_accuracy: 0.8289\n",
      "Epoch 95/100\n",
      "5359/5359 [==============================] - 1s 145us/step - loss: 0.3989 - accuracy: 0.8358 - val_loss: 0.3910 - val_accuracy: 0.8217\n",
      "Epoch 96/100\n",
      "5359/5359 [==============================] - 1s 139us/step - loss: 0.3905 - accuracy: 0.8401 - val_loss: 0.3817 - val_accuracy: 0.8323\n",
      "Epoch 97/100\n",
      "5359/5359 [==============================] - 1s 156us/step - loss: 0.3948 - accuracy: 0.8373 - val_loss: 0.3845 - val_accuracy: 0.8281\n",
      "Epoch 98/100\n",
      "5359/5359 [==============================] - 1s 168us/step - loss: 0.3909 - accuracy: 0.8358 - val_loss: 0.3777 - val_accuracy: 0.8357\n",
      "Epoch 99/100\n",
      "5359/5359 [==============================] - 1s 188us/step - loss: 0.3836 - accuracy: 0.8406 - val_loss: 0.3836 - val_accuracy: 0.8311\n",
      "Epoch 100/100\n",
      "5359/5359 [==============================] - 1s 140us/step - loss: 0.3919 - accuracy: 0.8365 - val_loss: 0.3847 - val_accuracy: 0.8285\n"
     ]
    }
   ],
   "source": [
    "# Fitting the ANN to the Training set\n",
    "model_history=classifier1.fit(X_train, y_train,validation_split=0.33, batch_size = 10, nb_epoch = 100)\n",
    "                                                             ## batch size used for minimize computation power as it will convert n data points into k batches"
   ]
  },
  {
   "cell_type": "code",
   "execution_count": 59,
   "metadata": {},
   "outputs": [],
   "source": [
    "## After applying dropout and add 1 more hidden layer doesn't increase my accuracy so previous model is perfecgt for our problem"
   ]
  },
  {
   "cell_type": "code",
   "execution_count": null,
   "metadata": {},
   "outputs": [],
   "source": []
  }
 ],
 "metadata": {
  "kernelspec": {
   "display_name": "Python 3",
   "language": "python",
   "name": "python3"
  },
  "language_info": {
   "codemirror_mode": {
    "name": "ipython",
    "version": 3
   },
   "file_extension": ".py",
   "mimetype": "text/x-python",
   "name": "python",
   "nbconvert_exporter": "python",
   "pygments_lexer": "ipython3",
   "version": "3.7.3"
  }
 },
 "nbformat": 4,
 "nbformat_minor": 2
}
